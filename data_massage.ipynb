{
 "cells": [
  {
   "cell_type": "code",
   "execution_count": 223,
   "metadata": {},
   "outputs": [],
   "source": [
    "import pandas as pd\n",
    "\n",
    "activitats = pd.read_csv('activitats.csv', encoding = 'latin-1')\n",
    "notes = pd.read_csv('notes.csv', sep=';', encoding = 'latin-1')\n",
    "notes.rename(columns = {notes.columns[0]: 'userid'}, inplace = True)\n",
    "trameses = pd.read_csv('trameses.csv', sep=',', encoding = 'latin-1')\n",
    "trameses.rename(columns = {trameses.columns[0]: 'tramesa_id'}, inplace = True)"
   ]
  },
  {
   "cell_type": "code",
   "execution_count": 224,
   "metadata": {},
   "outputs": [
    {
     "name": "stdout",
     "output_type": "stream",
     "text": [
      "[ 92 143 176  87 141 184] [ 87  92 114 125 126 141 143 164 165 170 176 184]\n"
     ]
    }
   ],
   "source": [
    "notes_aules = notes['aula_id'].unique()\n",
    "activitats_aules = activitats['aula_id'].unique()\n",
    "print(notes_aules,activitats_aules)"
   ]
  },
  {
   "cell_type": "markdown",
   "metadata": {},
   "source": [
    "Eliminamos los registros de las actividades de las asignatura de las cuales no tenemos notas y aquellos que contengan \"PRU\", \"PROVA\" o \"OCULT\" ya que són pruebas de los docentes."
   ]
  },
  {
   "cell_type": "code",
   "execution_count": 225,
   "metadata": {},
   "outputs": [
    {
     "data": {
      "text/html": [
       "<div>\n",
       "<style scoped>\n",
       "    .dataframe tbody tr th:only-of-type {\n",
       "        vertical-align: middle;\n",
       "    }\n",
       "\n",
       "    .dataframe tbody tr th {\n",
       "        vertical-align: top;\n",
       "    }\n",
       "\n",
       "    .dataframe thead th {\n",
       "        text-align: right;\n",
       "    }\n",
       "</style>\n",
       "<table border=\"1\" class=\"dataframe\">\n",
       "  <thead>\n",
       "    <tr style=\"text-align: right;\">\n",
       "      <th></th>\n",
       "      <th>activitat_id</th>\n",
       "      <th>activitat</th>\n",
       "      <th>aula_id</th>\n",
       "      <th>startdate</th>\n",
       "      <th>duedate</th>\n",
       "      <th>grade</th>\n",
       "    </tr>\n",
       "  </thead>\n",
       "  <tbody>\n",
       "    <tr>\n",
       "      <th>0</th>\n",
       "      <td>3</td>\n",
       "      <td>Problema 1.1 - Hello world!!!</td>\n",
       "      <td>87</td>\n",
       "      <td>0</td>\n",
       "      <td>0</td>\n",
       "      <td>100</td>\n",
       "    </tr>\n",
       "    <tr>\n",
       "      <th>1</th>\n",
       "      <td>4</td>\n",
       "      <td>Problema 1.2 - Hello world!!! ++</td>\n",
       "      <td>87</td>\n",
       "      <td>0</td>\n",
       "      <td>0</td>\n",
       "      <td>100</td>\n",
       "    </tr>\n",
       "    <tr>\n",
       "      <th>2</th>\n",
       "      <td>5</td>\n",
       "      <td>Problema 3a.1: Càlcul edat</td>\n",
       "      <td>87</td>\n",
       "      <td>0</td>\n",
       "      <td>0</td>\n",
       "      <td>100</td>\n",
       "    </tr>\n",
       "    <tr>\n",
       "      <th>3</th>\n",
       "      <td>6</td>\n",
       "      <td>Problema 3a.8: Conversió dòlars a euros</td>\n",
       "      <td>87</td>\n",
       "      <td>0</td>\n",
       "      <td>0</td>\n",
       "      <td>100</td>\n",
       "    </tr>\n",
       "    <tr>\n",
       "      <th>4</th>\n",
       "      <td>7</td>\n",
       "      <td>Problema 3a.11: Mitjana de notes</td>\n",
       "      <td>87</td>\n",
       "      <td>0</td>\n",
       "      <td>0</td>\n",
       "      <td>100</td>\n",
       "    </tr>\n",
       "    <tr>\n",
       "      <th>...</th>\n",
       "      <td>...</td>\n",
       "      <td>...</td>\n",
       "      <td>...</td>\n",
       "      <td>...</td>\n",
       "      <td>...</td>\n",
       "      <td>...</td>\n",
       "    </tr>\n",
       "    <tr>\n",
       "      <th>1793</th>\n",
       "      <td>4058</td>\n",
       "      <td>Problema 8.1: Classe Point</td>\n",
       "      <td>184</td>\n",
       "      <td>0</td>\n",
       "      <td>0</td>\n",
       "      <td>100</td>\n",
       "    </tr>\n",
       "    <tr>\n",
       "      <th>1794</th>\n",
       "      <td>4059</td>\n",
       "      <td>Problema 8.2: Classe Rectangle</td>\n",
       "      <td>184</td>\n",
       "      <td>0</td>\n",
       "      <td>0</td>\n",
       "      <td>100</td>\n",
       "    </tr>\n",
       "    <tr>\n",
       "      <th>1796</th>\n",
       "      <td>4194</td>\n",
       "      <td>(OPCIONAL) Problema 9.24 Triple pitagòric</td>\n",
       "      <td>184</td>\n",
       "      <td>0</td>\n",
       "      <td>0</td>\n",
       "      <td>100</td>\n",
       "    </tr>\n",
       "    <tr>\n",
       "      <th>1799</th>\n",
       "      <td>4386</td>\n",
       "      <td>Lliurament Pràctica 5: NEW La Major</td>\n",
       "      <td>176</td>\n",
       "      <td>1571985000</td>\n",
       "      <td>1576745700</td>\n",
       "      <td>100</td>\n",
       "    </tr>\n",
       "    <tr>\n",
       "      <th>1800</th>\n",
       "      <td>4388</td>\n",
       "      <td>PG - Exercici 1</td>\n",
       "      <td>184</td>\n",
       "      <td>1698917400</td>\n",
       "      <td>1698924900</td>\n",
       "      <td>100</td>\n",
       "    </tr>\n",
       "  </tbody>\n",
       "</table>\n",
       "<p>1150 rows × 6 columns</p>\n",
       "</div>"
      ],
      "text/plain": [
       "      activitat_id                                  activitat  aula_id  \\\n",
       "0                3              Problema 1.1 - Hello world!!!       87   \n",
       "1                4           Problema 1.2 - Hello world!!! ++       87   \n",
       "2                5                 Problema 3a.1: Càlcul edat       87   \n",
       "3                6    Problema 3a.8: Conversió dòlars a euros       87   \n",
       "4                7           Problema 3a.11: Mitjana de notes       87   \n",
       "...            ...                                        ...      ...   \n",
       "1793          4058                 Problema 8.1: Classe Point      184   \n",
       "1794          4059             Problema 8.2: Classe Rectangle      184   \n",
       "1796          4194  (OPCIONAL) Problema 9.24 Triple pitagòric      184   \n",
       "1799          4386        Lliurament Pràctica 5: NEW La Major      176   \n",
       "1800          4388                            PG - Exercici 1      184   \n",
       "\n",
       "       startdate     duedate  grade  \n",
       "0              0           0    100  \n",
       "1              0           0    100  \n",
       "2              0           0    100  \n",
       "3              0           0    100  \n",
       "4              0           0    100  \n",
       "...          ...         ...    ...  \n",
       "1793           0           0    100  \n",
       "1794           0           0    100  \n",
       "1796           0           0    100  \n",
       "1799  1571985000  1576745700    100  \n",
       "1800  1698917400  1698924900    100  \n",
       "\n",
       "[1150 rows x 6 columns]"
      ]
     },
     "execution_count": 225,
     "metadata": {},
     "output_type": "execute_result"
    }
   ],
   "source": [
    "activitats = activitats[~activitats[\"aula_id\"].isin([114, 125, 126, 164, 165, 170])]\n",
    "activitats = activitats[~activitats[\"activitat\"].str.contains('PROVA|PRU|OCULT', case=False)]\n",
    "activitats"
   ]
  },
  {
   "cell_type": "code",
   "execution_count": 226,
   "metadata": {},
   "outputs": [
    {
     "name": "stdout",
     "output_type": "stream",
     "text": [
      "         total_rows  count_F_NaNs\n",
      "aula_id                          \n",
      "87              112             0\n",
      "92              252             1\n",
      "141             113             3\n",
      "143             238             4\n",
      "176             248           248\n",
      "184             125           125\n"
     ]
    }
   ],
   "source": [
    "finals_nan_count = notes.groupby('aula_id').agg(\n",
    "    total_rows=('F_Grade', 'size'),  # Cuenta el total de filas en cada grupo,\n",
    "    count_F_NaNs=('F_Grade', lambda x: x.isna().sum())  # Cuenta valores NaN en 'F_Grade'\n",
    ")\n",
    "\n",
    "print(finals_nan_count)"
   ]
  },
  {
   "cell_type": "markdown",
   "metadata": {},
   "source": [
    "Tenemos 6 asignaturas y podemos eliminar  2 de ellas, ya que aun no se han realizado los exámenes."
   ]
  },
  {
   "cell_type": "code",
   "execution_count": 227,
   "metadata": {},
   "outputs": [],
   "source": [
    "notes = notes[~notes[\"aula_id\"].isin([176, 184])]\n",
    "activitats = activitats[~activitats[\"aula_id\"].isin([176, 184])]"
   ]
  },
  {
   "cell_type": "code",
   "execution_count": 228,
   "metadata": {},
   "outputs": [
    {
     "name": "stdout",
     "output_type": "stream",
     "text": [
      "         total_rows  count_F_NaNs\n",
      "aula_id                          \n",
      "87              112             0\n",
      "92              252             1\n",
      "141             113             3\n",
      "143             238             4\n"
     ]
    }
   ],
   "source": [
    "finals_nan_count = notes.groupby('aula_id').agg(\n",
    "    total_rows=('F_Grade', 'size'),  \n",
    "    count_F_NaNs=('F_Grade', lambda x: x.isna().sum())  \n",
    ")\n",
    "\n",
    "print(finals_nan_count)"
   ]
  },
  {
   "cell_type": "markdown",
   "metadata": {},
   "source": [
    "Eliminamos los 8 registros que no tienen nota final"
   ]
  },
  {
   "cell_type": "code",
   "execution_count": 229,
   "metadata": {},
   "outputs": [],
   "source": [
    "notes = notes[~notes[\"F_Grade\"].isna()]"
   ]
  },
  {
   "cell_type": "markdown",
   "metadata": {},
   "source": [
    "Contamos el número de actividades por cada asignatura"
   ]
  },
  {
   "cell_type": "code",
   "execution_count": 230,
   "metadata": {},
   "outputs": [
    {
     "name": "stdout",
     "output_type": "stream",
     "text": [
      "         total_rows\n",
      "aula_id            \n",
      "87              194\n",
      "92              141\n",
      "141             243\n",
      "143             171\n"
     ]
    }
   ],
   "source": [
    "actxasig = activitats.groupby('aula_id').agg(\n",
    "    total_rows=('aula_id', 'size')\n",
    ")\n",
    "\n",
    "print(actxasig)"
   ]
  },
  {
   "cell_type": "markdown",
   "metadata": {},
   "source": [
    "Comprobamos si quedan nans por tratar"
   ]
  },
  {
   "cell_type": "code",
   "execution_count": 231,
   "metadata": {},
   "outputs": [
    {
     "data": {
      "text/plain": [
       "activitat_id    0\n",
       "activitat       0\n",
       "aula_id         0\n",
       "startdate       0\n",
       "duedate         0\n",
       "grade           0\n",
       "dtype: int64"
      ]
     },
     "execution_count": 231,
     "metadata": {},
     "output_type": "execute_result"
    }
   ],
   "source": [
    "nan_counts = activitats.isnull().sum()\n",
    "nan_counts"
   ]
  },
  {
   "cell_type": "code",
   "execution_count": 232,
   "metadata": {},
   "outputs": [
    {
     "data": {
      "text/plain": [
       "userid            0\n",
       "aula_id           0\n",
       "P_Grade         486\n",
       "P_Grade_Date    485\n",
       "F_Grade           0\n",
       "F_Grade_Date      0\n",
       "R_Grade         462\n",
       "R_Grade_Date      0\n",
       "dtype: int64"
      ]
     },
     "execution_count": 232,
     "metadata": {},
     "output_type": "execute_result"
    }
   ],
   "source": [
    "nan_counts = notes.isnull().sum()\n",
    "nan_counts"
   ]
  },
  {
   "cell_type": "code",
   "execution_count": 233,
   "metadata": {},
   "outputs": [
    {
     "name": "stdout",
     "output_type": "stream",
     "text": [
      "         total_rows  P_NaNs  R_NaNs\n",
      "aula_id                            \n",
      "87              112       0      76\n",
      "92              251     251     170\n",
      "141             110       1      62\n",
      "143             234     234     154\n"
     ]
    }
   ],
   "source": [
    "finals_nan_count = notes.groupby('aula_id').agg(\n",
    "    total_rows=('aula_id', 'size'),  \n",
    "    P_NaNs=('P_Grade', lambda x: x.isna().sum()),\n",
    "    R_NaNs=('R_Grade', lambda x: x.isna().sum())\n",
    ")\n",
    "\n",
    "print(finals_nan_count)"
   ]
  },
  {
   "cell_type": "markdown",
   "metadata": {},
   "source": [
    "Observamos que aula_id 92 y 143 no hacen parciales."
   ]
  },
  {
   "cell_type": "code",
   "execution_count": 234,
   "metadata": {},
   "outputs": [],
   "source": [
    "notes = notes[~((notes[\"aula_id\"] == 141) & (notes[\"P_Grade\"].isna()))]"
   ]
  },
  {
   "cell_type": "code",
   "execution_count": 235,
   "metadata": {},
   "outputs": [],
   "source": [
    "timestamp_min_87 = notes[notes[\"aula_id\"]==87]['F_Grade_Date'].min()\n",
    "timestamp_max_87 = notes[notes[\"aula_id\"]==87]['F_Grade_Date'].max()\n",
    "timestamp_min_92 = notes[notes[\"aula_id\"]==92]['F_Grade_Date'].min()\n",
    "timestamp_max_92 = notes[notes[\"aula_id\"]==92]['F_Grade_Date'].max()\n",
    "timestamp_min_141 = notes[notes[\"aula_id\"]==141]['F_Grade_Date'].min()\n",
    "timestamp_max_141 = notes[notes[\"aula_id\"]==141]['F_Grade_Date'].max()\n",
    "timestamp_min_143 = notes[notes[\"aula_id\"]==143]['F_Grade_Date'].min()\n",
    "timestamp_max_143 = notes[notes[\"aula_id\"]==143]['F_Grade_Date'].max()"
   ]
  },
  {
   "cell_type": "code",
   "execution_count": 236,
   "metadata": {},
   "outputs": [
    {
     "name": "stdout",
     "output_type": "stream",
     "text": [
      "Fecha 87: 2023-01-17 14:00:00 2023-01-19 14:00:00\n",
      "Fecha 92: 2022-11-07 14:00:00 2022-11-07 14:00:00\n",
      "Fecha 141: 2024-01-07 14:00:00 2024-01-16 14:00:00\n",
      "Fecha 143: 2023-11-13 14:00:00 2023-11-13 14:00:00\n"
     ]
    }
   ],
   "source": [
    "fecha_min_1 = pd.to_datetime(timestamp_min_87, unit='s')\n",
    "fecha_max_1 = pd.to_datetime(timestamp_max_87, unit='s')\n",
    "fecha_min_2 = pd.to_datetime(timestamp_min_92, unit='s')\n",
    "fecha_max_2 = pd.to_datetime(timestamp_max_92, unit='s')\n",
    "fecha_min_3 = pd.to_datetime(timestamp_min_141, unit='s')\n",
    "fecha_max_3 = pd.to_datetime(timestamp_max_141, unit='s')\n",
    "fecha_min_4 = pd.to_datetime(timestamp_min_143, unit='s')\n",
    "fecha_max_4 = pd.to_datetime(timestamp_max_143, unit='s')\n",
    "\n",
    "\n",
    "print(\"Fecha 87:\", fecha_min_1, fecha_max_1)\n",
    "print(\"Fecha 92:\", fecha_min_2, fecha_max_2)\n",
    "print(\"Fecha 141:\", fecha_min_3, fecha_max_3)\n",
    "print(\"Fecha 143:\", fecha_min_4, fecha_max_4)"
   ]
  },
  {
   "cell_type": "markdown",
   "metadata": {},
   "source": [
    "Se deduce que 87 y 141 son la misma asignatura, así como 92 y 143.\n",
    "\n",
    "\n",
    "Por lo tanto separamos el dataset en 2 con el objetivo de hacer un modelo para cada asignatura."
   ]
  },
  {
   "cell_type": "code",
   "execution_count": 237,
   "metadata": {},
   "outputs": [
    {
     "data": {
      "text/html": [
       "<div>\n",
       "<style scoped>\n",
       "    .dataframe tbody tr th:only-of-type {\n",
       "        vertical-align: middle;\n",
       "    }\n",
       "\n",
       "    .dataframe tbody tr th {\n",
       "        vertical-align: top;\n",
       "    }\n",
       "\n",
       "    .dataframe thead th {\n",
       "        text-align: right;\n",
       "    }\n",
       "</style>\n",
       "<table border=\"1\" class=\"dataframe\">\n",
       "  <thead>\n",
       "    <tr style=\"text-align: right;\">\n",
       "      <th></th>\n",
       "      <th>userid</th>\n",
       "      <th>aula_id</th>\n",
       "      <th>P_Grade</th>\n",
       "      <th>F_Grade</th>\n",
       "      <th>F_Grade_Date</th>\n",
       "    </tr>\n",
       "  </thead>\n",
       "  <tbody>\n",
       "    <tr>\n",
       "      <th>0</th>\n",
       "      <td>176</td>\n",
       "      <td>92</td>\n",
       "      <td>NaN</td>\n",
       "      <td>9,25</td>\n",
       "      <td>1667829600</td>\n",
       "    </tr>\n",
       "    <tr>\n",
       "      <th>1</th>\n",
       "      <td>179</td>\n",
       "      <td>92</td>\n",
       "      <td>NaN</td>\n",
       "      <td>7,75</td>\n",
       "      <td>1667829600</td>\n",
       "    </tr>\n",
       "    <tr>\n",
       "      <th>2</th>\n",
       "      <td>168</td>\n",
       "      <td>92</td>\n",
       "      <td>NaN</td>\n",
       "      <td>7,75</td>\n",
       "      <td>1667829600</td>\n",
       "    </tr>\n",
       "    <tr>\n",
       "      <th>3</th>\n",
       "      <td>401</td>\n",
       "      <td>92</td>\n",
       "      <td>NaN</td>\n",
       "      <td>3,50</td>\n",
       "      <td>1667829600</td>\n",
       "    </tr>\n",
       "    <tr>\n",
       "      <th>4</th>\n",
       "      <td>482</td>\n",
       "      <td>92</td>\n",
       "      <td>NaN</td>\n",
       "      <td>7,00</td>\n",
       "      <td>1667829600</td>\n",
       "    </tr>\n",
       "    <tr>\n",
       "      <th>...</th>\n",
       "      <td>...</td>\n",
       "      <td>...</td>\n",
       "      <td>...</td>\n",
       "      <td>...</td>\n",
       "      <td>...</td>\n",
       "    </tr>\n",
       "    <tr>\n",
       "      <th>958</th>\n",
       "      <td>1642</td>\n",
       "      <td>141</td>\n",
       "      <td>4,75</td>\n",
       "      <td>2,9</td>\n",
       "      <td>1705413600</td>\n",
       "    </tr>\n",
       "    <tr>\n",
       "      <th>959</th>\n",
       "      <td>1633</td>\n",
       "      <td>141</td>\n",
       "      <td>7,6</td>\n",
       "      <td>5,1</td>\n",
       "      <td>1705413600</td>\n",
       "    </tr>\n",
       "    <tr>\n",
       "      <th>960</th>\n",
       "      <td>1656</td>\n",
       "      <td>141</td>\n",
       "      <td>5,88</td>\n",
       "      <td>8,04</td>\n",
       "      <td>1705413600</td>\n",
       "    </tr>\n",
       "    <tr>\n",
       "      <th>961</th>\n",
       "      <td>2043</td>\n",
       "      <td>141</td>\n",
       "      <td>7,8</td>\n",
       "      <td>2</td>\n",
       "      <td>1705413600</td>\n",
       "    </tr>\n",
       "    <tr>\n",
       "      <th>962</th>\n",
       "      <td>1685</td>\n",
       "      <td>141</td>\n",
       "      <td>2,35</td>\n",
       "      <td>0,2</td>\n",
       "      <td>1705413600</td>\n",
       "    </tr>\n",
       "  </tbody>\n",
       "</table>\n",
       "<p>706 rows × 5 columns</p>\n",
       "</div>"
      ],
      "text/plain": [
       "     userid  aula_id P_Grade F_Grade  F_Grade_Date\n",
       "0       176       92     NaN    9,25    1667829600\n",
       "1       179       92     NaN    7,75    1667829600\n",
       "2       168       92     NaN    7,75    1667829600\n",
       "3       401       92     NaN    3,50    1667829600\n",
       "4       482       92     NaN    7,00    1667829600\n",
       "..      ...      ...     ...     ...           ...\n",
       "958    1642      141    4,75     2,9    1705413600\n",
       "959    1633      141     7,6     5,1    1705413600\n",
       "960    1656      141    5,88    8,04    1705413600\n",
       "961    2043      141     7,8       2    1705413600\n",
       "962    1685      141    2,35     0,2    1705413600\n",
       "\n",
       "[706 rows x 5 columns]"
      ]
     },
     "execution_count": 237,
     "metadata": {},
     "output_type": "execute_result"
    }
   ],
   "source": [
    "notes = notes.drop(columns=[\"R_Grade\", \"R_Grade_Date\", \"P_Grade_Date\"], axis=1)\n",
    "notes"
   ]
  },
  {
   "cell_type": "code",
   "execution_count": 238,
   "metadata": {},
   "outputs": [],
   "source": [
    "notes_A = notes[notes[\"aula_id\"].isin([87, 141])]\n",
    "notes_B = notes[~notes[\"aula_id\"].isin([87, 141])]\n",
    "notes_B = notes_B.drop(columns=[\"P_Grade\"], axis=1)"
   ]
  },
  {
   "cell_type": "code",
   "execution_count": 239,
   "metadata": {},
   "outputs": [],
   "source": [
    "activitats_A = activitats[activitats[\"aula_id\"].isin([87, 141])]\n",
    "activitats_B = activitats[~activitats[\"aula_id\"].isin([87, 141])]"
   ]
  },
  {
   "cell_type": "code",
   "execution_count": 240,
   "metadata": {},
   "outputs": [
    {
     "data": {
      "text/html": [
       "<div>\n",
       "<style scoped>\n",
       "    .dataframe tbody tr th:only-of-type {\n",
       "        vertical-align: middle;\n",
       "    }\n",
       "\n",
       "    .dataframe tbody tr th {\n",
       "        vertical-align: top;\n",
       "    }\n",
       "\n",
       "    .dataframe thead th {\n",
       "        text-align: right;\n",
       "    }\n",
       "</style>\n",
       "<table border=\"1\" class=\"dataframe\">\n",
       "  <thead>\n",
       "    <tr style=\"text-align: right;\">\n",
       "      <th></th>\n",
       "      <th>total_rows</th>\n",
       "    </tr>\n",
       "    <tr>\n",
       "      <th>activitat</th>\n",
       "      <th></th>\n",
       "    </tr>\n",
       "  </thead>\n",
       "  <tbody>\n",
       "    <tr>\n",
       "      <th>Problema 8.11: Point2D i Point3D</th>\n",
       "      <td>2</td>\n",
       "    </tr>\n",
       "    <tr>\n",
       "      <th>Problema 8.14: Baralla de cartes</th>\n",
       "      <td>1</td>\n",
       "    </tr>\n",
       "    <tr>\n",
       "      <th>(OPCIONAL) Problema 3b.1: És de l'interval?</th>\n",
       "      <td>2</td>\n",
       "    </tr>\n",
       "    <tr>\n",
       "      <th>(OPCIONAL) Problema 3b.20: Iguals o diferents?</th>\n",
       "      <td>2</td>\n",
       "    </tr>\n",
       "    <tr>\n",
       "      <th>(OPCIONAL) Problema 3b.33: Zodíac xinès</th>\n",
       "      <td>2</td>\n",
       "    </tr>\n",
       "    <tr>\n",
       "      <th>...</th>\n",
       "      <td>...</td>\n",
       "    </tr>\n",
       "    <tr>\n",
       "      <th>Recuperació IP - Exercici 3  (1 punt)</th>\n",
       "      <td>1</td>\n",
       "    </tr>\n",
       "    <tr>\n",
       "      <th>Recuperació IP - Exercici 4 (1 punt)</th>\n",
       "      <td>1</td>\n",
       "    </tr>\n",
       "    <tr>\n",
       "      <th>Recuperació IP - Exercici 5 (1 punt)</th>\n",
       "      <td>1</td>\n",
       "    </tr>\n",
       "    <tr>\n",
       "      <th>Recuperació IP - Exercici 6  (2 punts)</th>\n",
       "      <td>1</td>\n",
       "    </tr>\n",
       "    <tr>\n",
       "      <th>Recuperació IP - Exercici 7  (2 punts)</th>\n",
       "      <td>1</td>\n",
       "    </tr>\n",
       "  </tbody>\n",
       "</table>\n",
       "<p>255 rows × 1 columns</p>\n",
       "</div>"
      ],
      "text/plain": [
       "                                                total_rows\n",
       "activitat                                                 \n",
       " Problema 8.11: Point2D i Point3D                        2\n",
       " Problema 8.14: Baralla de cartes                        1\n",
       "(OPCIONAL) Problema 3b.1: És de l'interval?              2\n",
       "(OPCIONAL) Problema 3b.20: Iguals o diferents?           2\n",
       "(OPCIONAL) Problema 3b.33: Zodíac xinès                  2\n",
       "...                                                    ...\n",
       "Recuperació IP - Exercici 3  (1 punt)                    1\n",
       "Recuperació IP - Exercici 4 (1 punt)                     1\n",
       "Recuperació IP - Exercici 5 (1 punt)                     1\n",
       "Recuperació IP - Exercici 6  (2 punts)                   1\n",
       "Recuperació IP - Exercici 7  (2 punts)                   1\n",
       "\n",
       "[255 rows x 1 columns]"
      ]
     },
     "execution_count": 240,
     "metadata": {},
     "output_type": "execute_result"
    }
   ],
   "source": [
    "coinc_A = activitats_A.groupby('activitat').agg(\n",
    "    total_rows=('activitat', 'size')\n",
    ")\n",
    "coinc_A"
   ]
  },
  {
   "cell_type": "code",
   "execution_count": 241,
   "metadata": {},
   "outputs": [
    {
     "data": {
      "text/html": [
       "<div>\n",
       "<style scoped>\n",
       "    .dataframe tbody tr th:only-of-type {\n",
       "        vertical-align: middle;\n",
       "    }\n",
       "\n",
       "    .dataframe tbody tr th {\n",
       "        vertical-align: top;\n",
       "    }\n",
       "\n",
       "    .dataframe thead th {\n",
       "        text-align: right;\n",
       "    }\n",
       "</style>\n",
       "<table border=\"1\" class=\"dataframe\">\n",
       "  <thead>\n",
       "    <tr style=\"text-align: right;\">\n",
       "      <th></th>\n",
       "      <th>total_rows</th>\n",
       "    </tr>\n",
       "    <tr>\n",
       "      <th>activitat</th>\n",
       "      <th></th>\n",
       "    </tr>\n",
       "  </thead>\n",
       "  <tbody>\n",
       "    <tr>\n",
       "      <th>(OPCIONAL) Problema 3b.1: És de l'interval?</th>\n",
       "      <td>2</td>\n",
       "    </tr>\n",
       "    <tr>\n",
       "      <th>(OPCIONAL) Problema 3b.20: Iguals o diferents?</th>\n",
       "      <td>2</td>\n",
       "    </tr>\n",
       "    <tr>\n",
       "      <th>(OPCIONAL) Problema 3b.33: Zodíac xinès</th>\n",
       "      <td>2</td>\n",
       "    </tr>\n",
       "    <tr>\n",
       "      <th>(OPCIONAL) Problema 3b.37: Calculadora</th>\n",
       "      <td>2</td>\n",
       "    </tr>\n",
       "    <tr>\n",
       "      <th>(OPCIONAL) Problema 3b.3: Positiu o negatiu?</th>\n",
       "      <td>2</td>\n",
       "    </tr>\n",
       "    <tr>\n",
       "      <th>...</th>\n",
       "      <td>...</td>\n",
       "    </tr>\n",
       "    <tr>\n",
       "      <th>RECUPERACIÓ Entrega Pràctica 3 - 4: MasterMind</th>\n",
       "      <td>1</td>\n",
       "    </tr>\n",
       "    <tr>\n",
       "      <th>RECUPERACIÓ Entrega Pràctica 5: BlackJack</th>\n",
       "      <td>2</td>\n",
       "    </tr>\n",
       "    <tr>\n",
       "      <th>RECUPERACIÓ Entrega Pràctica 5: Encriptació</th>\n",
       "      <td>2</td>\n",
       "    </tr>\n",
       "    <tr>\n",
       "      <th>RECUPERACIÓ Entrega Pràctica 5: La Major</th>\n",
       "      <td>1</td>\n",
       "    </tr>\n",
       "    <tr>\n",
       "      <th>RECUPERACIÓ Entrega Pràctica 5: Master Mind Multijugador</th>\n",
       "      <td>1</td>\n",
       "    </tr>\n",
       "  </tbody>\n",
       "</table>\n",
       "<p>166 rows × 1 columns</p>\n",
       "</div>"
      ],
      "text/plain": [
       "                                                    total_rows\n",
       "activitat                                                     \n",
       "(OPCIONAL) Problema 3b.1: És de l'interval?                  2\n",
       "(OPCIONAL) Problema 3b.20: Iguals o diferents?               2\n",
       "(OPCIONAL) Problema 3b.33: Zodíac xinès                      2\n",
       "(OPCIONAL) Problema 3b.37: Calculadora                       2\n",
       "(OPCIONAL) Problema 3b.3: Positiu o negatiu?                 2\n",
       "...                                                        ...\n",
       "RECUPERACIÓ Entrega Pràctica 3 - 4: MasterMind               1\n",
       "RECUPERACIÓ Entrega Pràctica 5: BlackJack                    2\n",
       "RECUPERACIÓ Entrega Pràctica 5: Encriptació                  2\n",
       "RECUPERACIÓ Entrega Pràctica 5: La Major                     1\n",
       "RECUPERACIÓ Entrega Pràctica 5: Master Mind Mul...           1\n",
       "\n",
       "[166 rows x 1 columns]"
      ]
     },
     "execution_count": 241,
     "metadata": {},
     "output_type": "execute_result"
    }
   ],
   "source": [
    "coinc_B = activitats_B.groupby('activitat').agg(\n",
    "    total_rows=('activitat', 'size')\n",
    ")\n",
    "coinc_B"
   ]
  },
  {
   "cell_type": "markdown",
   "metadata": {},
   "source": [
    "Finalmente nos decantamos por hacer un modelo para cada asignatura para simplificar el proceso, ya que aunque sean la misma asignatura, cada año se modifican el numero de entregas."
   ]
  },
  {
   "cell_type": "code",
   "execution_count": 242,
   "metadata": {},
   "outputs": [],
   "source": [
    "activitats_x_aula = {}\n",
    "notes_x_aula = {}\n",
    "\n",
    "for aula_id in activitats['aula_id'].unique():\n",
    "    df_act = activitats[activitats['aula_id'] == aula_id]\n",
    "    df_notes = notes[notes['aula_id'] == aula_id]\n",
    "    \n",
    "    activitats_x_aula[aula_id] = df_act\n",
    "    notes_x_aula[aula_id] = df_notes\n"
   ]
  },
  {
   "cell_type": "code",
   "execution_count": 244,
   "metadata": {},
   "outputs": [
    {
     "name": "stdout",
     "output_type": "stream",
     "text": [
      "     activitat_id                                          activitat  aula_id  \\\n",
      "0               3                      Problema 1.1 - Hello world!!!       87   \n",
      "1               4                   Problema 1.2 - Hello world!!! ++       87   \n",
      "2               5                         Problema 3a.1: Càlcul edat       87   \n",
      "3               6            Problema 3a.8: Conversió dòlars a euros       87   \n",
      "4               7                   Problema 3a.11: Mitjana de notes       87   \n",
      "..            ...                                                ...      ...   \n",
      "207           214                  Problema x.32: Mínim comú divisor       87   \n",
      "208           215                         Problema 8.1: Classe Point       87   \n",
      "209           216                     Problema 8.2: Classe Rectangle       87   \n",
      "499          1652        RECUPERACIO - Lliurament Pràctica 2: Hotels       87   \n",
      "859          2221  RECUPERACIÓ:  Practica 1: Rock, Paper, Scissor...       87   \n",
      "\n",
      "      startdate     duedate  grade  \n",
      "0             0           0    100  \n",
      "1             0           0    100  \n",
      "2             0           0    100  \n",
      "3             0           0    100  \n",
      "4             0           0    100  \n",
      "..          ...         ...    ...  \n",
      "207           0           0    100  \n",
      "208           0           0    100  \n",
      "209           0           0    100  \n",
      "499           0  1676069700    100  \n",
      "859  1675270800  1676242500    100  \n",
      "\n",
      "[194 rows x 6 columns]\n"
     ]
    }
   ],
   "source": [
    "print(activitats_x_aula[87])"
   ]
  },
  {
   "cell_type": "code",
   "execution_count": null,
   "metadata": {},
   "outputs": [],
   "source": []
  }
 ],
 "metadata": {
  "kernelspec": {
   "display_name": "general",
   "language": "python",
   "name": "python3"
  },
  "language_info": {
   "codemirror_mode": {
    "name": "ipython",
    "version": 3
   },
   "file_extension": ".py",
   "mimetype": "text/x-python",
   "name": "python",
   "nbconvert_exporter": "python",
   "pygments_lexer": "ipython3",
   "version": "3.12.3"
  }
 },
 "nbformat": 4,
 "nbformat_minor": 2
}
