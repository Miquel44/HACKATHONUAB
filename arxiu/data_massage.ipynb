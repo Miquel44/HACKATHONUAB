{
 "cells": [
  {
   "cell_type": "code",
   "metadata": {
    "ExecuteTime": {
     "end_time": "2024-10-27T01:07:15.728328Z",
     "start_time": "2024-10-27T01:07:15.530154Z"
    }
   },
   "source": [
    "import pandas as pd\n",
    "\n",
    "activitats = pd.read_csv('activitats.csv', encoding = 'latin-1')\n",
    "notes = pd.read_csv('notes.csv', sep=';', encoding = 'latin-1')\n",
    "notes.rename(columns = {notes.columns[0]: 'userid'}, inplace = True)\n",
    "trameses = pd.read_csv('trameses.csv', sep=',', encoding = 'latin-1')\n",
    "trameses.rename(columns = {trameses.columns[0]: 'tramesa_id'}, inplace = True)"
   ],
   "outputs": [],
   "execution_count": 1
  },
  {
   "cell_type": "code",
   "metadata": {
    "ExecuteTime": {
     "end_time": "2024-10-27T01:07:15.744265Z",
     "start_time": "2024-10-27T01:07:15.738457Z"
    }
   },
   "source": [
    "notes_aules = notes['aula_id'].unique()\n",
    "activitats_aules = activitats['aula_id'].unique()\n",
    "print(notes_aules,activitats_aules)"
   ],
   "outputs": [
    {
     "name": "stdout",
     "output_type": "stream",
     "text": [
      "[ 92 143 176  87 141 184] [ 87  92 114 125 126 141 143 164 165 170 176 184]\n"
     ]
    }
   ],
   "execution_count": 2
  },
  {
   "cell_type": "markdown",
   "metadata": {},
   "source": [
    "Eliminamos los registros de las actividades de las asignatura de las cuales no tenemos notas y aquellos que contengan \"PRU\", \"PROVA\" o \"OCULT\" ya que són pruebas de los docentes."
   ]
  },
  {
   "cell_type": "code",
   "metadata": {
    "ExecuteTime": {
     "end_time": "2024-10-27T01:07:15.885308Z",
     "start_time": "2024-10-27T01:07:15.870073Z"
    }
   },
   "source": [
    "activitats = activitats[~activitats[\"aula_id\"].isin([114, 125, 126, 164, 165, 170])]\n",
    "activitats = activitats[~activitats[\"activitat\"].str.contains('PROVA|PRU|OCULT', case=False)]\n",
    "activitats"
   ],
   "outputs": [
    {
     "data": {
      "text/plain": [
       "      activitat_id                                  activitat  aula_id  \\\n",
       "0                3              Problema 1.1 - Hello world!!!       87   \n",
       "1                4           Problema 1.2 - Hello world!!! ++       87   \n",
       "2                5                 Problema 3a.1: Càlcul edat       87   \n",
       "3                6    Problema 3a.8: Conversió dòlars a euros       87   \n",
       "4                7           Problema 3a.11: Mitjana de notes       87   \n",
       "...            ...                                        ...      ...   \n",
       "1793          4058                 Problema 8.1: Classe Point      184   \n",
       "1794          4059             Problema 8.2: Classe Rectangle      184   \n",
       "1796          4194  (OPCIONAL) Problema 9.24 Triple pitagòric      184   \n",
       "1799          4386        Lliurament Pràctica 5: NEW La Major      176   \n",
       "1800          4388                            PG - Exercici 1      184   \n",
       "\n",
       "       startdate     duedate  grade  \n",
       "0              0           0    100  \n",
       "1              0           0    100  \n",
       "2              0           0    100  \n",
       "3              0           0    100  \n",
       "4              0           0    100  \n",
       "...          ...         ...    ...  \n",
       "1793           0           0    100  \n",
       "1794           0           0    100  \n",
       "1796           0           0    100  \n",
       "1799  1571985000  1576745700    100  \n",
       "1800  1698917400  1698924900    100  \n",
       "\n",
       "[1150 rows x 6 columns]"
      ],
      "text/html": [
       "<div>\n",
       "<style scoped>\n",
       "    .dataframe tbody tr th:only-of-type {\n",
       "        vertical-align: middle;\n",
       "    }\n",
       "\n",
       "    .dataframe tbody tr th {\n",
       "        vertical-align: top;\n",
       "    }\n",
       "\n",
       "    .dataframe thead th {\n",
       "        text-align: right;\n",
       "    }\n",
       "</style>\n",
       "<table border=\"1\" class=\"dataframe\">\n",
       "  <thead>\n",
       "    <tr style=\"text-align: right;\">\n",
       "      <th></th>\n",
       "      <th>activitat_id</th>\n",
       "      <th>activitat</th>\n",
       "      <th>aula_id</th>\n",
       "      <th>startdate</th>\n",
       "      <th>duedate</th>\n",
       "      <th>grade</th>\n",
       "    </tr>\n",
       "  </thead>\n",
       "  <tbody>\n",
       "    <tr>\n",
       "      <th>0</th>\n",
       "      <td>3</td>\n",
       "      <td>Problema 1.1 - Hello world!!!</td>\n",
       "      <td>87</td>\n",
       "      <td>0</td>\n",
       "      <td>0</td>\n",
       "      <td>100</td>\n",
       "    </tr>\n",
       "    <tr>\n",
       "      <th>1</th>\n",
       "      <td>4</td>\n",
       "      <td>Problema 1.2 - Hello world!!! ++</td>\n",
       "      <td>87</td>\n",
       "      <td>0</td>\n",
       "      <td>0</td>\n",
       "      <td>100</td>\n",
       "    </tr>\n",
       "    <tr>\n",
       "      <th>2</th>\n",
       "      <td>5</td>\n",
       "      <td>Problema 3a.1: Càlcul edat</td>\n",
       "      <td>87</td>\n",
       "      <td>0</td>\n",
       "      <td>0</td>\n",
       "      <td>100</td>\n",
       "    </tr>\n",
       "    <tr>\n",
       "      <th>3</th>\n",
       "      <td>6</td>\n",
       "      <td>Problema 3a.8: Conversió dòlars a euros</td>\n",
       "      <td>87</td>\n",
       "      <td>0</td>\n",
       "      <td>0</td>\n",
       "      <td>100</td>\n",
       "    </tr>\n",
       "    <tr>\n",
       "      <th>4</th>\n",
       "      <td>7</td>\n",
       "      <td>Problema 3a.11: Mitjana de notes</td>\n",
       "      <td>87</td>\n",
       "      <td>0</td>\n",
       "      <td>0</td>\n",
       "      <td>100</td>\n",
       "    </tr>\n",
       "    <tr>\n",
       "      <th>...</th>\n",
       "      <td>...</td>\n",
       "      <td>...</td>\n",
       "      <td>...</td>\n",
       "      <td>...</td>\n",
       "      <td>...</td>\n",
       "      <td>...</td>\n",
       "    </tr>\n",
       "    <tr>\n",
       "      <th>1793</th>\n",
       "      <td>4058</td>\n",
       "      <td>Problema 8.1: Classe Point</td>\n",
       "      <td>184</td>\n",
       "      <td>0</td>\n",
       "      <td>0</td>\n",
       "      <td>100</td>\n",
       "    </tr>\n",
       "    <tr>\n",
       "      <th>1794</th>\n",
       "      <td>4059</td>\n",
       "      <td>Problema 8.2: Classe Rectangle</td>\n",
       "      <td>184</td>\n",
       "      <td>0</td>\n",
       "      <td>0</td>\n",
       "      <td>100</td>\n",
       "    </tr>\n",
       "    <tr>\n",
       "      <th>1796</th>\n",
       "      <td>4194</td>\n",
       "      <td>(OPCIONAL) Problema 9.24 Triple pitagòric</td>\n",
       "      <td>184</td>\n",
       "      <td>0</td>\n",
       "      <td>0</td>\n",
       "      <td>100</td>\n",
       "    </tr>\n",
       "    <tr>\n",
       "      <th>1799</th>\n",
       "      <td>4386</td>\n",
       "      <td>Lliurament Pràctica 5: NEW La Major</td>\n",
       "      <td>176</td>\n",
       "      <td>1571985000</td>\n",
       "      <td>1576745700</td>\n",
       "      <td>100</td>\n",
       "    </tr>\n",
       "    <tr>\n",
       "      <th>1800</th>\n",
       "      <td>4388</td>\n",
       "      <td>PG - Exercici 1</td>\n",
       "      <td>184</td>\n",
       "      <td>1698917400</td>\n",
       "      <td>1698924900</td>\n",
       "      <td>100</td>\n",
       "    </tr>\n",
       "  </tbody>\n",
       "</table>\n",
       "<p>1150 rows × 6 columns</p>\n",
       "</div>"
      ]
     },
     "execution_count": 3,
     "metadata": {},
     "output_type": "execute_result"
    }
   ],
   "execution_count": 3
  },
  {
   "cell_type": "code",
   "metadata": {
    "ExecuteTime": {
     "end_time": "2024-10-27T01:07:15.979018Z",
     "start_time": "2024-10-27T01:07:15.964432Z"
    }
   },
   "source": [
    "finals_nan_count = notes.groupby('aula_id').agg(\n",
    "    total_rows=('F_Grade', 'size'),  # Cuenta el total de filas en cada grupo,\n",
    "    count_F_NaNs=('F_Grade', lambda x: x.isna().sum())  # Cuenta valores NaN en 'F_Grade'\n",
    ")\n",
    "\n",
    "print(finals_nan_count)"
   ],
   "outputs": [
    {
     "name": "stdout",
     "output_type": "stream",
     "text": [
      "         total_rows  count_F_NaNs\n",
      "aula_id                          \n",
      "87              112             0\n",
      "92              252             1\n",
      "141             113             3\n",
      "143             238             4\n",
      "176             248           248\n",
      "184             125           125\n"
     ]
    }
   ],
   "execution_count": 4
  },
  {
   "cell_type": "markdown",
   "metadata": {},
   "source": [
    "Tenemos 6 asignaturas y podemos eliminar  2 de ellas, ya que aun no se han realizado los exámenes."
   ]
  },
  {
   "cell_type": "code",
   "metadata": {
    "ExecuteTime": {
     "end_time": "2024-10-27T01:07:16.025148Z",
     "start_time": "2024-10-27T01:07:16.010953Z"
    }
   },
   "source": [
    "notes = notes[~notes[\"aula_id\"].isin([176, 184])]\n",
    "activitats = activitats[~activitats[\"aula_id\"].isin([176, 184])]"
   ],
   "outputs": [],
   "execution_count": 5
  },
  {
   "cell_type": "code",
   "metadata": {
    "ExecuteTime": {
     "end_time": "2024-10-27T01:07:16.056143Z",
     "start_time": "2024-10-27T01:07:16.048241Z"
    }
   },
   "source": [
    "finals_nan_count = notes.groupby('aula_id').agg(\n",
    "    total_rows=('F_Grade', 'size'),  \n",
    "    count_F_NaNs=('F_Grade', lambda x: x.isna().sum())  \n",
    ")\n",
    "\n",
    "print(finals_nan_count)"
   ],
   "outputs": [
    {
     "name": "stdout",
     "output_type": "stream",
     "text": [
      "         total_rows  count_F_NaNs\n",
      "aula_id                          \n",
      "87              112             0\n",
      "92              252             1\n",
      "141             113             3\n",
      "143             238             4\n"
     ]
    }
   ],
   "execution_count": 6
  },
  {
   "cell_type": "markdown",
   "metadata": {},
   "source": [
    "Eliminamos los 8 registros que no tienen nota final"
   ]
  },
  {
   "cell_type": "code",
   "metadata": {
    "ExecuteTime": {
     "end_time": "2024-10-27T01:07:16.118011Z",
     "start_time": "2024-10-27T01:07:16.103879Z"
    }
   },
   "source": [
    "notes = notes[~notes[\"F_Grade\"].isna()]"
   ],
   "outputs": [],
   "execution_count": 7
  },
  {
   "cell_type": "markdown",
   "metadata": {},
   "source": [
    "Contamos el número de actividades por cada asignatura"
   ]
  },
  {
   "cell_type": "code",
   "metadata": {
    "ExecuteTime": {
     "end_time": "2024-10-27T01:07:16.133257Z",
     "start_time": "2024-10-27T01:07:16.126337Z"
    }
   },
   "source": [
    "actxasig = activitats.groupby('aula_id').agg(\n",
    "    total_rows=('aula_id', 'size')\n",
    ")\n",
    "\n",
    "print(actxasig)"
   ],
   "outputs": [
    {
     "name": "stdout",
     "output_type": "stream",
     "text": [
      "         total_rows\n",
      "aula_id            \n",
      "87              194\n",
      "92              141\n",
      "141             243\n",
      "143             171\n"
     ]
    }
   ],
   "execution_count": 8
  },
  {
   "cell_type": "markdown",
   "metadata": {},
   "source": [
    "Comprobamos si quedan nans por tratar"
   ]
  },
  {
   "cell_type": "code",
   "metadata": {
    "ExecuteTime": {
     "end_time": "2024-10-27T01:07:16.164248Z",
     "start_time": "2024-10-27T01:07:16.150005Z"
    }
   },
   "source": [
    "nan_counts = activitats.isnull().sum()\n",
    "nan_counts"
   ],
   "outputs": [
    {
     "data": {
      "text/plain": [
       "activitat_id    0\n",
       "activitat       0\n",
       "aula_id         0\n",
       "startdate       0\n",
       "duedate         0\n",
       "grade           0\n",
       "dtype: int64"
      ]
     },
     "execution_count": 9,
     "metadata": {},
     "output_type": "execute_result"
    }
   ],
   "execution_count": 9
  },
  {
   "cell_type": "code",
   "metadata": {
    "ExecuteTime": {
     "end_time": "2024-10-27T01:07:16.225647Z",
     "start_time": "2024-10-27T01:07:16.210880Z"
    }
   },
   "source": [
    "nan_counts = notes.isnull().sum()\n",
    "nan_counts"
   ],
   "outputs": [
    {
     "data": {
      "text/plain": [
       "userid            0\n",
       "aula_id           0\n",
       "P_Grade         486\n",
       "P_Grade_Date    485\n",
       "F_Grade           0\n",
       "F_Grade_Date      0\n",
       "R_Grade         462\n",
       "R_Grade_Date      0\n",
       "dtype: int64"
      ]
     },
     "execution_count": 10,
     "metadata": {},
     "output_type": "execute_result"
    }
   ],
   "execution_count": 10
  },
  {
   "cell_type": "code",
   "metadata": {
    "ExecuteTime": {
     "end_time": "2024-10-27T01:07:16.289135Z",
     "start_time": "2024-10-27T01:07:16.279991Z"
    }
   },
   "source": [
    "finals_nan_count = notes.groupby('aula_id').agg(\n",
    "    total_rows=('aula_id', 'size'),  \n",
    "    P_NaNs=('P_Grade', lambda x: x.isna().sum()),\n",
    "    R_NaNs=('R_Grade', lambda x: x.isna().sum())\n",
    ")\n",
    "\n",
    "print(finals_nan_count)"
   ],
   "outputs": [
    {
     "name": "stdout",
     "output_type": "stream",
     "text": [
      "         total_rows  P_NaNs  R_NaNs\n",
      "aula_id                            \n",
      "87              112       0      76\n",
      "92              251     251     170\n",
      "141             110       1      62\n",
      "143             234     234     154\n"
     ]
    }
   ],
   "execution_count": 11
  },
  {
   "cell_type": "markdown",
   "metadata": {},
   "source": [
    "Observamos que aula_id 92 y 143 no hacen parciales."
   ]
  },
  {
   "cell_type": "code",
   "metadata": {
    "ExecuteTime": {
     "end_time": "2024-10-27T01:07:16.351464Z",
     "start_time": "2024-10-27T01:07:16.336444Z"
    }
   },
   "source": [
    "notes = notes[~((notes[\"aula_id\"] == 141) & (notes[\"P_Grade\"].isna()))]"
   ],
   "outputs": [],
   "execution_count": 12
  },
  {
   "cell_type": "code",
   "metadata": {
    "ExecuteTime": {
     "end_time": "2024-10-27T01:07:16.429094Z",
     "start_time": "2024-10-27T01:07:16.414079Z"
    }
   },
   "source": [
    "timestamp_min_87 = notes[notes[\"aula_id\"]==87]['F_Grade_Date'].min()\n",
    "timestamp_max_87 = notes[notes[\"aula_id\"]==87]['F_Grade_Date'].max()\n",
    "timestamp_min_92 = notes[notes[\"aula_id\"]==92]['F_Grade_Date'].min()\n",
    "timestamp_max_92 = notes[notes[\"aula_id\"]==92]['F_Grade_Date'].max()\n",
    "timestamp_min_141 = notes[notes[\"aula_id\"]==141]['F_Grade_Date'].min()\n",
    "timestamp_max_141 = notes[notes[\"aula_id\"]==141]['F_Grade_Date'].max()\n",
    "timestamp_min_143 = notes[notes[\"aula_id\"]==143]['F_Grade_Date'].min()\n",
    "timestamp_max_143 = notes[notes[\"aula_id\"]==143]['F_Grade_Date'].max()"
   ],
   "outputs": [],
   "execution_count": 13
  },
  {
   "cell_type": "code",
   "metadata": {
    "ExecuteTime": {
     "end_time": "2024-10-27T01:07:16.460642Z",
     "start_time": "2024-10-27T01:07:16.444107Z"
    }
   },
   "source": [
    "fecha_min_1 = pd.to_datetime(timestamp_min_87, unit='s')\n",
    "fecha_max_1 = pd.to_datetime(timestamp_max_87, unit='s')\n",
    "fecha_min_2 = pd.to_datetime(timestamp_min_92, unit='s')\n",
    "fecha_max_2 = pd.to_datetime(timestamp_max_92, unit='s')\n",
    "fecha_min_3 = pd.to_datetime(timestamp_min_141, unit='s')\n",
    "fecha_max_3 = pd.to_datetime(timestamp_max_141, unit='s')\n",
    "fecha_min_4 = pd.to_datetime(timestamp_min_143, unit='s')\n",
    "fecha_max_4 = pd.to_datetime(timestamp_max_143, unit='s')\n",
    "\n",
    "\n",
    "print(\"Fecha 87:\", fecha_min_1, fecha_max_1)\n",
    "print(\"Fecha 92:\", fecha_min_2, fecha_max_2)\n",
    "print(\"Fecha 141:\", fecha_min_3, fecha_max_3)\n",
    "print(\"Fecha 143:\", fecha_min_4, fecha_max_4)"
   ],
   "outputs": [
    {
     "name": "stdout",
     "output_type": "stream",
     "text": [
      "Fecha 87: 2023-01-17 14:00:00 2023-01-19 14:00:00\n",
      "Fecha 92: 2022-11-07 14:00:00 2022-11-07 14:00:00\n",
      "Fecha 141: 2024-01-07 14:00:00 2024-01-16 14:00:00\n",
      "Fecha 143: 2023-11-13 14:00:00 2023-11-13 14:00:00\n"
     ]
    }
   ],
   "execution_count": 14
  },
  {
   "cell_type": "markdown",
   "metadata": {},
   "source": [
    "Se deduce que 87 y 141 son la misma asignatura, así como 92 y 143.\n",
    "\n",
    "\n",
    "Por lo tanto separamos el dataset en 2 con el objetivo de hacer un modelo para cada asignatura."
   ]
  },
  {
   "cell_type": "code",
   "metadata": {
    "ExecuteTime": {
     "end_time": "2024-10-27T01:07:16.491927Z",
     "start_time": "2024-10-27T01:07:16.477804Z"
    }
   },
   "source": [
    "notes = notes.drop(columns=[\"R_Grade\", \"R_Grade_Date\", \"P_Grade_Date\"], axis=1)\n",
    "notes"
   ],
   "outputs": [
    {
     "data": {
      "text/plain": [
       "     userid  aula_id P_Grade F_Grade  F_Grade_Date\n",
       "0       176       92     NaN    9,25    1667829600\n",
       "1       179       92     NaN    7,75    1667829600\n",
       "2       168       92     NaN    7,75    1667829600\n",
       "3       401       92     NaN    3,50    1667829600\n",
       "4       482       92     NaN    7,00    1667829600\n",
       "..      ...      ...     ...     ...           ...\n",
       "958    1642      141    4,75     2,9    1705413600\n",
       "959    1633      141     7,6     5,1    1705413600\n",
       "960    1656      141    5,88    8,04    1705413600\n",
       "961    2043      141     7,8       2    1705413600\n",
       "962    1685      141    2,35     0,2    1705413600\n",
       "\n",
       "[706 rows x 5 columns]"
      ],
      "text/html": [
       "<div>\n",
       "<style scoped>\n",
       "    .dataframe tbody tr th:only-of-type {\n",
       "        vertical-align: middle;\n",
       "    }\n",
       "\n",
       "    .dataframe tbody tr th {\n",
       "        vertical-align: top;\n",
       "    }\n",
       "\n",
       "    .dataframe thead th {\n",
       "        text-align: right;\n",
       "    }\n",
       "</style>\n",
       "<table border=\"1\" class=\"dataframe\">\n",
       "  <thead>\n",
       "    <tr style=\"text-align: right;\">\n",
       "      <th></th>\n",
       "      <th>userid</th>\n",
       "      <th>aula_id</th>\n",
       "      <th>P_Grade</th>\n",
       "      <th>F_Grade</th>\n",
       "      <th>F_Grade_Date</th>\n",
       "    </tr>\n",
       "  </thead>\n",
       "  <tbody>\n",
       "    <tr>\n",
       "      <th>0</th>\n",
       "      <td>176</td>\n",
       "      <td>92</td>\n",
       "      <td>NaN</td>\n",
       "      <td>9,25</td>\n",
       "      <td>1667829600</td>\n",
       "    </tr>\n",
       "    <tr>\n",
       "      <th>1</th>\n",
       "      <td>179</td>\n",
       "      <td>92</td>\n",
       "      <td>NaN</td>\n",
       "      <td>7,75</td>\n",
       "      <td>1667829600</td>\n",
       "    </tr>\n",
       "    <tr>\n",
       "      <th>2</th>\n",
       "      <td>168</td>\n",
       "      <td>92</td>\n",
       "      <td>NaN</td>\n",
       "      <td>7,75</td>\n",
       "      <td>1667829600</td>\n",
       "    </tr>\n",
       "    <tr>\n",
       "      <th>3</th>\n",
       "      <td>401</td>\n",
       "      <td>92</td>\n",
       "      <td>NaN</td>\n",
       "      <td>3,50</td>\n",
       "      <td>1667829600</td>\n",
       "    </tr>\n",
       "    <tr>\n",
       "      <th>4</th>\n",
       "      <td>482</td>\n",
       "      <td>92</td>\n",
       "      <td>NaN</td>\n",
       "      <td>7,00</td>\n",
       "      <td>1667829600</td>\n",
       "    </tr>\n",
       "    <tr>\n",
       "      <th>...</th>\n",
       "      <td>...</td>\n",
       "      <td>...</td>\n",
       "      <td>...</td>\n",
       "      <td>...</td>\n",
       "      <td>...</td>\n",
       "    </tr>\n",
       "    <tr>\n",
       "      <th>958</th>\n",
       "      <td>1642</td>\n",
       "      <td>141</td>\n",
       "      <td>4,75</td>\n",
       "      <td>2,9</td>\n",
       "      <td>1705413600</td>\n",
       "    </tr>\n",
       "    <tr>\n",
       "      <th>959</th>\n",
       "      <td>1633</td>\n",
       "      <td>141</td>\n",
       "      <td>7,6</td>\n",
       "      <td>5,1</td>\n",
       "      <td>1705413600</td>\n",
       "    </tr>\n",
       "    <tr>\n",
       "      <th>960</th>\n",
       "      <td>1656</td>\n",
       "      <td>141</td>\n",
       "      <td>5,88</td>\n",
       "      <td>8,04</td>\n",
       "      <td>1705413600</td>\n",
       "    </tr>\n",
       "    <tr>\n",
       "      <th>961</th>\n",
       "      <td>2043</td>\n",
       "      <td>141</td>\n",
       "      <td>7,8</td>\n",
       "      <td>2</td>\n",
       "      <td>1705413600</td>\n",
       "    </tr>\n",
       "    <tr>\n",
       "      <th>962</th>\n",
       "      <td>1685</td>\n",
       "      <td>141</td>\n",
       "      <td>2,35</td>\n",
       "      <td>0,2</td>\n",
       "      <td>1705413600</td>\n",
       "    </tr>\n",
       "  </tbody>\n",
       "</table>\n",
       "<p>706 rows × 5 columns</p>\n",
       "</div>"
      ]
     },
     "execution_count": 15,
     "metadata": {},
     "output_type": "execute_result"
    }
   ],
   "execution_count": 15
  },
  {
   "cell_type": "code",
   "metadata": {
    "ExecuteTime": {
     "end_time": "2024-10-27T01:07:16.555278Z",
     "start_time": "2024-10-27T01:07:16.539684Z"
    }
   },
   "source": [
    "notes_A = notes[notes[\"aula_id\"].isin([87, 141])]\n",
    "notes_B = notes[~notes[\"aula_id\"].isin([87, 141])]\n",
    "notes_B = notes_B.drop(columns=[\"P_Grade\"], axis=1)"
   ],
   "outputs": [],
   "execution_count": 16
  },
  {
   "cell_type": "code",
   "metadata": {
    "ExecuteTime": {
     "end_time": "2024-10-27T01:07:16.601330Z",
     "start_time": "2024-10-27T01:07:16.587819Z"
    }
   },
   "source": [
    "activitats_A = activitats[activitats[\"aula_id\"].isin([87, 141])]\n",
    "activitats_B = activitats[~activitats[\"aula_id\"].isin([87, 141])]"
   ],
   "outputs": [],
   "execution_count": 17
  },
  {
   "cell_type": "code",
   "metadata": {
    "ExecuteTime": {
     "end_time": "2024-10-27T01:07:16.632937Z",
     "start_time": "2024-10-27T01:07:16.621428Z"
    }
   },
   "source": [
    "coinc_A = activitats_A.groupby('activitat').agg(\n",
    "    total_rows=('activitat', 'size')\n",
    ")\n",
    "coinc_A"
   ],
   "outputs": [
    {
     "data": {
      "text/plain": [
       "                                                total_rows\n",
       "activitat                                                 \n",
       " Problema 8.11: Point2D i Point3D                        2\n",
       " Problema 8.14: Baralla de cartes                        1\n",
       "(OPCIONAL) Problema 3b.1: És de l'interval?              2\n",
       "(OPCIONAL) Problema 3b.20: Iguals o diferents?           2\n",
       "(OPCIONAL) Problema 3b.33: Zodíac xinès                  2\n",
       "...                                                    ...\n",
       "Recuperació IP - Exercici 3  (1 punt)                    1\n",
       "Recuperació IP - Exercici 4 (1 punt)                     1\n",
       "Recuperació IP - Exercici 5 (1 punt)                     1\n",
       "Recuperació IP - Exercici 6  (2 punts)                   1\n",
       "Recuperació IP - Exercici 7  (2 punts)                   1\n",
       "\n",
       "[255 rows x 1 columns]"
      ],
      "text/html": [
       "<div>\n",
       "<style scoped>\n",
       "    .dataframe tbody tr th:only-of-type {\n",
       "        vertical-align: middle;\n",
       "    }\n",
       "\n",
       "    .dataframe tbody tr th {\n",
       "        vertical-align: top;\n",
       "    }\n",
       "\n",
       "    .dataframe thead th {\n",
       "        text-align: right;\n",
       "    }\n",
       "</style>\n",
       "<table border=\"1\" class=\"dataframe\">\n",
       "  <thead>\n",
       "    <tr style=\"text-align: right;\">\n",
       "      <th></th>\n",
       "      <th>total_rows</th>\n",
       "    </tr>\n",
       "    <tr>\n",
       "      <th>activitat</th>\n",
       "      <th></th>\n",
       "    </tr>\n",
       "  </thead>\n",
       "  <tbody>\n",
       "    <tr>\n",
       "      <th>Problema 8.11: Point2D i Point3D</th>\n",
       "      <td>2</td>\n",
       "    </tr>\n",
       "    <tr>\n",
       "      <th>Problema 8.14: Baralla de cartes</th>\n",
       "      <td>1</td>\n",
       "    </tr>\n",
       "    <tr>\n",
       "      <th>(OPCIONAL) Problema 3b.1: És de l'interval?</th>\n",
       "      <td>2</td>\n",
       "    </tr>\n",
       "    <tr>\n",
       "      <th>(OPCIONAL) Problema 3b.20: Iguals o diferents?</th>\n",
       "      <td>2</td>\n",
       "    </tr>\n",
       "    <tr>\n",
       "      <th>(OPCIONAL) Problema 3b.33: Zodíac xinès</th>\n",
       "      <td>2</td>\n",
       "    </tr>\n",
       "    <tr>\n",
       "      <th>...</th>\n",
       "      <td>...</td>\n",
       "    </tr>\n",
       "    <tr>\n",
       "      <th>Recuperació IP - Exercici 3  (1 punt)</th>\n",
       "      <td>1</td>\n",
       "    </tr>\n",
       "    <tr>\n",
       "      <th>Recuperació IP - Exercici 4 (1 punt)</th>\n",
       "      <td>1</td>\n",
       "    </tr>\n",
       "    <tr>\n",
       "      <th>Recuperació IP - Exercici 5 (1 punt)</th>\n",
       "      <td>1</td>\n",
       "    </tr>\n",
       "    <tr>\n",
       "      <th>Recuperació IP - Exercici 6  (2 punts)</th>\n",
       "      <td>1</td>\n",
       "    </tr>\n",
       "    <tr>\n",
       "      <th>Recuperació IP - Exercici 7  (2 punts)</th>\n",
       "      <td>1</td>\n",
       "    </tr>\n",
       "  </tbody>\n",
       "</table>\n",
       "<p>255 rows × 1 columns</p>\n",
       "</div>"
      ]
     },
     "execution_count": 18,
     "metadata": {},
     "output_type": "execute_result"
    }
   ],
   "execution_count": 18
  },
  {
   "cell_type": "code",
   "metadata": {
    "ExecuteTime": {
     "end_time": "2024-10-27T01:07:16.696478Z",
     "start_time": "2024-10-27T01:07:16.681475Z"
    }
   },
   "source": [
    "coinc_B = activitats_B.groupby('activitat').agg(\n",
    "    total_rows=('activitat', 'size')\n",
    ")\n",
    "coinc_B"
   ],
   "outputs": [
    {
     "data": {
      "text/plain": [
       "                                                    total_rows\n",
       "activitat                                                     \n",
       "(OPCIONAL) Problema 3b.1: És de l'interval?                  2\n",
       "(OPCIONAL) Problema 3b.20: Iguals o diferents?               2\n",
       "(OPCIONAL) Problema 3b.33: Zodíac xinès                      2\n",
       "(OPCIONAL) Problema 3b.37: Calculadora                       2\n",
       "(OPCIONAL) Problema 3b.3: Positiu o negatiu?                 2\n",
       "...                                                        ...\n",
       "RECUPERACIÓ Entrega Pràctica 3 - 4: MasterMind               1\n",
       "RECUPERACIÓ Entrega Pràctica 5: BlackJack                    2\n",
       "RECUPERACIÓ Entrega Pràctica 5: Encriptació                  2\n",
       "RECUPERACIÓ Entrega Pràctica 5: La Major                     1\n",
       "RECUPERACIÓ Entrega Pràctica 5: Master Mind Mul...           1\n",
       "\n",
       "[166 rows x 1 columns]"
      ],
      "text/html": [
       "<div>\n",
       "<style scoped>\n",
       "    .dataframe tbody tr th:only-of-type {\n",
       "        vertical-align: middle;\n",
       "    }\n",
       "\n",
       "    .dataframe tbody tr th {\n",
       "        vertical-align: top;\n",
       "    }\n",
       "\n",
       "    .dataframe thead th {\n",
       "        text-align: right;\n",
       "    }\n",
       "</style>\n",
       "<table border=\"1\" class=\"dataframe\">\n",
       "  <thead>\n",
       "    <tr style=\"text-align: right;\">\n",
       "      <th></th>\n",
       "      <th>total_rows</th>\n",
       "    </tr>\n",
       "    <tr>\n",
       "      <th>activitat</th>\n",
       "      <th></th>\n",
       "    </tr>\n",
       "  </thead>\n",
       "  <tbody>\n",
       "    <tr>\n",
       "      <th>(OPCIONAL) Problema 3b.1: És de l'interval?</th>\n",
       "      <td>2</td>\n",
       "    </tr>\n",
       "    <tr>\n",
       "      <th>(OPCIONAL) Problema 3b.20: Iguals o diferents?</th>\n",
       "      <td>2</td>\n",
       "    </tr>\n",
       "    <tr>\n",
       "      <th>(OPCIONAL) Problema 3b.33: Zodíac xinès</th>\n",
       "      <td>2</td>\n",
       "    </tr>\n",
       "    <tr>\n",
       "      <th>(OPCIONAL) Problema 3b.37: Calculadora</th>\n",
       "      <td>2</td>\n",
       "    </tr>\n",
       "    <tr>\n",
       "      <th>(OPCIONAL) Problema 3b.3: Positiu o negatiu?</th>\n",
       "      <td>2</td>\n",
       "    </tr>\n",
       "    <tr>\n",
       "      <th>...</th>\n",
       "      <td>...</td>\n",
       "    </tr>\n",
       "    <tr>\n",
       "      <th>RECUPERACIÓ Entrega Pràctica 3 - 4: MasterMind</th>\n",
       "      <td>1</td>\n",
       "    </tr>\n",
       "    <tr>\n",
       "      <th>RECUPERACIÓ Entrega Pràctica 5: BlackJack</th>\n",
       "      <td>2</td>\n",
       "    </tr>\n",
       "    <tr>\n",
       "      <th>RECUPERACIÓ Entrega Pràctica 5: Encriptació</th>\n",
       "      <td>2</td>\n",
       "    </tr>\n",
       "    <tr>\n",
       "      <th>RECUPERACIÓ Entrega Pràctica 5: La Major</th>\n",
       "      <td>1</td>\n",
       "    </tr>\n",
       "    <tr>\n",
       "      <th>RECUPERACIÓ Entrega Pràctica 5: Master Mind Multijugador</th>\n",
       "      <td>1</td>\n",
       "    </tr>\n",
       "  </tbody>\n",
       "</table>\n",
       "<p>166 rows × 1 columns</p>\n",
       "</div>"
      ]
     },
     "execution_count": 19,
     "metadata": {},
     "output_type": "execute_result"
    }
   ],
   "execution_count": 19
  },
  {
   "cell_type": "markdown",
   "metadata": {},
   "source": [
    "Finalmente nos decantamos por hacer un modelo para cada asignatura para simplificar el proceso, ya que aunque sean la misma asignatura, cada año se modifican el numero de entregas."
   ]
  },
  {
   "cell_type": "code",
   "metadata": {
    "ExecuteTime": {
     "end_time": "2024-10-27T01:07:16.742788Z",
     "start_time": "2024-10-27T01:07:16.728986Z"
    }
   },
   "source": [
    "activitats = activitats.drop(columns=[\"activitat\", \"startdate\", \"duedate\"], axis=1)\n",
    "activitats.rename(columns={'grade': 'gradeMax'}, inplace=True)"
   ],
   "outputs": [],
   "execution_count": 20
  },
  {
   "cell_type": "code",
   "metadata": {
    "ExecuteTime": {
     "end_time": "2024-10-27T01:07:16.835962Z",
     "start_time": "2024-10-27T01:07:16.820964Z"
    }
   },
   "source": [
    "activitats_x_aula = {}\n",
    "notes_x_aula = {}\n",
    "\n",
    "for aula_id in activitats['aula_id'].unique():\n",
    "    df_act = activitats[activitats['aula_id'] == aula_id]\n",
    "    df_notes = notes[notes['aula_id'] == aula_id]\n",
    "    \n",
    "    activitats_x_aula[aula_id] = df_act\n",
    "    notes_x_aula[aula_id] = df_notes\n"
   ],
   "outputs": [],
   "execution_count": 21
  },
  {
   "cell_type": "code",
   "metadata": {
    "ExecuteTime": {
     "end_time": "2024-10-27T01:07:16.883Z",
     "start_time": "2024-10-27T01:07:16.868492Z"
    }
   },
   "source": [
    "print(activitats_x_aula[87])"
   ],
   "outputs": [
    {
     "name": "stdout",
     "output_type": "stream",
     "text": [
      "     activitat_id  aula_id  gradeMax\n",
      "0               3       87       100\n",
      "1               4       87       100\n",
      "2               5       87       100\n",
      "3               6       87       100\n",
      "4               7       87       100\n",
      "..            ...      ...       ...\n",
      "207           214       87       100\n",
      "208           215       87       100\n",
      "209           216       87       100\n",
      "499          1652       87       100\n",
      "859          2221       87       100\n",
      "\n",
      "[194 rows x 3 columns]\n"
     ]
    }
   ],
   "execution_count": 22
  },
  {
   "cell_type": "code",
   "metadata": {
    "ExecuteTime": {
     "end_time": "2024-10-27T01:07:16.930515Z",
     "start_time": "2024-10-27T01:07:16.917515Z"
    }
   },
   "source": [
    "trameses = trameses.drop(columns=[\"grader\", \"dategraded\"], axis=1)\n",
    "trameses"
   ],
   "outputs": [
    {
     "data": {
      "text/plain": [
       "        tramesa_id  activitat_id  userid  datesubmitted  grade  nevaluations\n",
       "0                6             3      31     1658829978  100.0             1\n",
       "1                7           362      26     1658837049  100.0             0\n",
       "2                9           362      26     1658837075  100.0             0\n",
       "3               15           362      31     1662537577    NaN             0\n",
       "4               16           362      31     1662537593  100.0             0\n",
       "...            ...           ...     ...            ...    ...           ...\n",
       "547957     1235631          3567    2644     1729605745   60.0            17\n",
       "547958     1235635          3573    1828     1729605824    NaN             0\n",
       "547959     1235643          3573    1828     1729605880    NaN             1\n",
       "547960     1235646          3567    2650     1729605935  100.0             6\n",
       "547961     1235649          3482    2543     1729605996    NaN             7\n",
       "\n",
       "[547962 rows x 6 columns]"
      ],
      "text/html": [
       "<div>\n",
       "<style scoped>\n",
       "    .dataframe tbody tr th:only-of-type {\n",
       "        vertical-align: middle;\n",
       "    }\n",
       "\n",
       "    .dataframe tbody tr th {\n",
       "        vertical-align: top;\n",
       "    }\n",
       "\n",
       "    .dataframe thead th {\n",
       "        text-align: right;\n",
       "    }\n",
       "</style>\n",
       "<table border=\"1\" class=\"dataframe\">\n",
       "  <thead>\n",
       "    <tr style=\"text-align: right;\">\n",
       "      <th></th>\n",
       "      <th>tramesa_id</th>\n",
       "      <th>activitat_id</th>\n",
       "      <th>userid</th>\n",
       "      <th>datesubmitted</th>\n",
       "      <th>grade</th>\n",
       "      <th>nevaluations</th>\n",
       "    </tr>\n",
       "  </thead>\n",
       "  <tbody>\n",
       "    <tr>\n",
       "      <th>0</th>\n",
       "      <td>6</td>\n",
       "      <td>3</td>\n",
       "      <td>31</td>\n",
       "      <td>1658829978</td>\n",
       "      <td>100.0</td>\n",
       "      <td>1</td>\n",
       "    </tr>\n",
       "    <tr>\n",
       "      <th>1</th>\n",
       "      <td>7</td>\n",
       "      <td>362</td>\n",
       "      <td>26</td>\n",
       "      <td>1658837049</td>\n",
       "      <td>100.0</td>\n",
       "      <td>0</td>\n",
       "    </tr>\n",
       "    <tr>\n",
       "      <th>2</th>\n",
       "      <td>9</td>\n",
       "      <td>362</td>\n",
       "      <td>26</td>\n",
       "      <td>1658837075</td>\n",
       "      <td>100.0</td>\n",
       "      <td>0</td>\n",
       "    </tr>\n",
       "    <tr>\n",
       "      <th>3</th>\n",
       "      <td>15</td>\n",
       "      <td>362</td>\n",
       "      <td>31</td>\n",
       "      <td>1662537577</td>\n",
       "      <td>NaN</td>\n",
       "      <td>0</td>\n",
       "    </tr>\n",
       "    <tr>\n",
       "      <th>4</th>\n",
       "      <td>16</td>\n",
       "      <td>362</td>\n",
       "      <td>31</td>\n",
       "      <td>1662537593</td>\n",
       "      <td>100.0</td>\n",
       "      <td>0</td>\n",
       "    </tr>\n",
       "    <tr>\n",
       "      <th>...</th>\n",
       "      <td>...</td>\n",
       "      <td>...</td>\n",
       "      <td>...</td>\n",
       "      <td>...</td>\n",
       "      <td>...</td>\n",
       "      <td>...</td>\n",
       "    </tr>\n",
       "    <tr>\n",
       "      <th>547957</th>\n",
       "      <td>1235631</td>\n",
       "      <td>3567</td>\n",
       "      <td>2644</td>\n",
       "      <td>1729605745</td>\n",
       "      <td>60.0</td>\n",
       "      <td>17</td>\n",
       "    </tr>\n",
       "    <tr>\n",
       "      <th>547958</th>\n",
       "      <td>1235635</td>\n",
       "      <td>3573</td>\n",
       "      <td>1828</td>\n",
       "      <td>1729605824</td>\n",
       "      <td>NaN</td>\n",
       "      <td>0</td>\n",
       "    </tr>\n",
       "    <tr>\n",
       "      <th>547959</th>\n",
       "      <td>1235643</td>\n",
       "      <td>3573</td>\n",
       "      <td>1828</td>\n",
       "      <td>1729605880</td>\n",
       "      <td>NaN</td>\n",
       "      <td>1</td>\n",
       "    </tr>\n",
       "    <tr>\n",
       "      <th>547960</th>\n",
       "      <td>1235646</td>\n",
       "      <td>3567</td>\n",
       "      <td>2650</td>\n",
       "      <td>1729605935</td>\n",
       "      <td>100.0</td>\n",
       "      <td>6</td>\n",
       "    </tr>\n",
       "    <tr>\n",
       "      <th>547961</th>\n",
       "      <td>1235649</td>\n",
       "      <td>3482</td>\n",
       "      <td>2543</td>\n",
       "      <td>1729605996</td>\n",
       "      <td>NaN</td>\n",
       "      <td>7</td>\n",
       "    </tr>\n",
       "  </tbody>\n",
       "</table>\n",
       "<p>547962 rows × 6 columns</p>\n",
       "</div>"
      ]
     },
     "execution_count": 23,
     "metadata": {},
     "output_type": "execute_result"
    }
   ],
   "execution_count": 23
  },
  {
   "cell_type": "code",
   "metadata": {
    "ExecuteTime": {
     "end_time": "2024-10-27T01:07:17.040022Z",
     "start_time": "2024-10-27T01:07:16.993049Z"
    }
   },
   "source": [
    "merged_df = pd.merge(trameses, activitats, on='activitat_id')\n",
    "merged_df['grade'] = merged_df['grade'] / merged_df['gradeMax']\n",
    "merged_df = merged_df.drop('gradeMax', axis=1)\n",
    "merged_df"
   ],
   "outputs": [
    {
     "data": {
      "text/plain": [
       "        tramesa_id  activitat_id  userid  datesubmitted  grade  nevaluations  \\\n",
       "0                6             3      31     1658829978    1.0             1   \n",
       "1                7           362      26     1658837049    1.0             0   \n",
       "2                9           362      26     1658837075    1.0             0   \n",
       "3               15           362      31     1662537577    NaN             0   \n",
       "4               16           362      31     1662537593    1.0             0   \n",
       "...            ...           ...     ...            ...    ...           ...   \n",
       "427611     1010148          2466    1673     1722977835    0.8             7   \n",
       "427612     1010149          2466    1673     1722977883    1.0             8   \n",
       "427613     1010150          2466    1673     1724699940    0.8             9   \n",
       "427614     1010151          2466    1673     1724699944    1.0            10   \n",
       "427615     1010156          2373      26     1725459813    0.0            10   \n",
       "\n",
       "        aula_id  \n",
       "0            87  \n",
       "1            92  \n",
       "2            92  \n",
       "3            92  \n",
       "4            92  \n",
       "...         ...  \n",
       "427611      141  \n",
       "427612      141  \n",
       "427613      141  \n",
       "427614      141  \n",
       "427615      141  \n",
       "\n",
       "[427616 rows x 7 columns]"
      ],
      "text/html": [
       "<div>\n",
       "<style scoped>\n",
       "    .dataframe tbody tr th:only-of-type {\n",
       "        vertical-align: middle;\n",
       "    }\n",
       "\n",
       "    .dataframe tbody tr th {\n",
       "        vertical-align: top;\n",
       "    }\n",
       "\n",
       "    .dataframe thead th {\n",
       "        text-align: right;\n",
       "    }\n",
       "</style>\n",
       "<table border=\"1\" class=\"dataframe\">\n",
       "  <thead>\n",
       "    <tr style=\"text-align: right;\">\n",
       "      <th></th>\n",
       "      <th>tramesa_id</th>\n",
       "      <th>activitat_id</th>\n",
       "      <th>userid</th>\n",
       "      <th>datesubmitted</th>\n",
       "      <th>grade</th>\n",
       "      <th>nevaluations</th>\n",
       "      <th>aula_id</th>\n",
       "    </tr>\n",
       "  </thead>\n",
       "  <tbody>\n",
       "    <tr>\n",
       "      <th>0</th>\n",
       "      <td>6</td>\n",
       "      <td>3</td>\n",
       "      <td>31</td>\n",
       "      <td>1658829978</td>\n",
       "      <td>1.0</td>\n",
       "      <td>1</td>\n",
       "      <td>87</td>\n",
       "    </tr>\n",
       "    <tr>\n",
       "      <th>1</th>\n",
       "      <td>7</td>\n",
       "      <td>362</td>\n",
       "      <td>26</td>\n",
       "      <td>1658837049</td>\n",
       "      <td>1.0</td>\n",
       "      <td>0</td>\n",
       "      <td>92</td>\n",
       "    </tr>\n",
       "    <tr>\n",
       "      <th>2</th>\n",
       "      <td>9</td>\n",
       "      <td>362</td>\n",
       "      <td>26</td>\n",
       "      <td>1658837075</td>\n",
       "      <td>1.0</td>\n",
       "      <td>0</td>\n",
       "      <td>92</td>\n",
       "    </tr>\n",
       "    <tr>\n",
       "      <th>3</th>\n",
       "      <td>15</td>\n",
       "      <td>362</td>\n",
       "      <td>31</td>\n",
       "      <td>1662537577</td>\n",
       "      <td>NaN</td>\n",
       "      <td>0</td>\n",
       "      <td>92</td>\n",
       "    </tr>\n",
       "    <tr>\n",
       "      <th>4</th>\n",
       "      <td>16</td>\n",
       "      <td>362</td>\n",
       "      <td>31</td>\n",
       "      <td>1662537593</td>\n",
       "      <td>1.0</td>\n",
       "      <td>0</td>\n",
       "      <td>92</td>\n",
       "    </tr>\n",
       "    <tr>\n",
       "      <th>...</th>\n",
       "      <td>...</td>\n",
       "      <td>...</td>\n",
       "      <td>...</td>\n",
       "      <td>...</td>\n",
       "      <td>...</td>\n",
       "      <td>...</td>\n",
       "      <td>...</td>\n",
       "    </tr>\n",
       "    <tr>\n",
       "      <th>427611</th>\n",
       "      <td>1010148</td>\n",
       "      <td>2466</td>\n",
       "      <td>1673</td>\n",
       "      <td>1722977835</td>\n",
       "      <td>0.8</td>\n",
       "      <td>7</td>\n",
       "      <td>141</td>\n",
       "    </tr>\n",
       "    <tr>\n",
       "      <th>427612</th>\n",
       "      <td>1010149</td>\n",
       "      <td>2466</td>\n",
       "      <td>1673</td>\n",
       "      <td>1722977883</td>\n",
       "      <td>1.0</td>\n",
       "      <td>8</td>\n",
       "      <td>141</td>\n",
       "    </tr>\n",
       "    <tr>\n",
       "      <th>427613</th>\n",
       "      <td>1010150</td>\n",
       "      <td>2466</td>\n",
       "      <td>1673</td>\n",
       "      <td>1724699940</td>\n",
       "      <td>0.8</td>\n",
       "      <td>9</td>\n",
       "      <td>141</td>\n",
       "    </tr>\n",
       "    <tr>\n",
       "      <th>427614</th>\n",
       "      <td>1010151</td>\n",
       "      <td>2466</td>\n",
       "      <td>1673</td>\n",
       "      <td>1724699944</td>\n",
       "      <td>1.0</td>\n",
       "      <td>10</td>\n",
       "      <td>141</td>\n",
       "    </tr>\n",
       "    <tr>\n",
       "      <th>427615</th>\n",
       "      <td>1010156</td>\n",
       "      <td>2373</td>\n",
       "      <td>26</td>\n",
       "      <td>1725459813</td>\n",
       "      <td>0.0</td>\n",
       "      <td>10</td>\n",
       "      <td>141</td>\n",
       "    </tr>\n",
       "  </tbody>\n",
       "</table>\n",
       "<p>427616 rows × 7 columns</p>\n",
       "</div>"
      ]
     },
     "execution_count": 24,
     "metadata": {},
     "output_type": "execute_result"
    }
   ],
   "execution_count": 24
  },
  {
   "cell_type": "code",
   "metadata": {
    "ExecuteTime": {
     "end_time": "2024-10-27T01:07:17.119309Z",
     "start_time": "2024-10-27T01:07:17.074044Z"
    }
   },
   "source": [
    "idx = merged_df.groupby(['activitat_id', 'userid'])['nevaluations'].idxmax()\n",
    "\n",
    "merged_df_max_n = merged_df.loc[idx].reset_index(drop=True)\n",
    "\n",
    "merged_df_max_n"
   ],
   "outputs": [
    {
     "data": {
      "text/plain": [
       "       tramesa_id  activitat_id  userid  datesubmitted  grade  nevaluations  \\\n",
       "0            1222             3      26     1663070055    1.0             9   \n",
       "1               6             3      31     1658829978    1.0             1   \n",
       "2            1270             3     227     1663074780    1.0             1   \n",
       "3             218             3     229     1662996260    1.0             1   \n",
       "4            1793             3     241     1663089090    1.0             1   \n",
       "...           ...           ...     ...            ...    ...           ...   \n",
       "76968      853020          3321    1739     1707207328    NaN             0   \n",
       "76969      853019          3321    1746     1707207304    1.0             0   \n",
       "76970      853024          3321    1749     1707207356    0.9             0   \n",
       "76971      853040          3321    1981     1707207586    NaN             0   \n",
       "76972      853617          3321    2200     1707213706    NaN             0   \n",
       "\n",
       "       aula_id  \n",
       "0           87  \n",
       "1           87  \n",
       "2           87  \n",
       "3           87  \n",
       "4           87  \n",
       "...        ...  \n",
       "76968      141  \n",
       "76969      141  \n",
       "76970      141  \n",
       "76971      141  \n",
       "76972      141  \n",
       "\n",
       "[76973 rows x 7 columns]"
      ],
      "text/html": [
       "<div>\n",
       "<style scoped>\n",
       "    .dataframe tbody tr th:only-of-type {\n",
       "        vertical-align: middle;\n",
       "    }\n",
       "\n",
       "    .dataframe tbody tr th {\n",
       "        vertical-align: top;\n",
       "    }\n",
       "\n",
       "    .dataframe thead th {\n",
       "        text-align: right;\n",
       "    }\n",
       "</style>\n",
       "<table border=\"1\" class=\"dataframe\">\n",
       "  <thead>\n",
       "    <tr style=\"text-align: right;\">\n",
       "      <th></th>\n",
       "      <th>tramesa_id</th>\n",
       "      <th>activitat_id</th>\n",
       "      <th>userid</th>\n",
       "      <th>datesubmitted</th>\n",
       "      <th>grade</th>\n",
       "      <th>nevaluations</th>\n",
       "      <th>aula_id</th>\n",
       "    </tr>\n",
       "  </thead>\n",
       "  <tbody>\n",
       "    <tr>\n",
       "      <th>0</th>\n",
       "      <td>1222</td>\n",
       "      <td>3</td>\n",
       "      <td>26</td>\n",
       "      <td>1663070055</td>\n",
       "      <td>1.0</td>\n",
       "      <td>9</td>\n",
       "      <td>87</td>\n",
       "    </tr>\n",
       "    <tr>\n",
       "      <th>1</th>\n",
       "      <td>6</td>\n",
       "      <td>3</td>\n",
       "      <td>31</td>\n",
       "      <td>1658829978</td>\n",
       "      <td>1.0</td>\n",
       "      <td>1</td>\n",
       "      <td>87</td>\n",
       "    </tr>\n",
       "    <tr>\n",
       "      <th>2</th>\n",
       "      <td>1270</td>\n",
       "      <td>3</td>\n",
       "      <td>227</td>\n",
       "      <td>1663074780</td>\n",
       "      <td>1.0</td>\n",
       "      <td>1</td>\n",
       "      <td>87</td>\n",
       "    </tr>\n",
       "    <tr>\n",
       "      <th>3</th>\n",
       "      <td>218</td>\n",
       "      <td>3</td>\n",
       "      <td>229</td>\n",
       "      <td>1662996260</td>\n",
       "      <td>1.0</td>\n",
       "      <td>1</td>\n",
       "      <td>87</td>\n",
       "    </tr>\n",
       "    <tr>\n",
       "      <th>4</th>\n",
       "      <td>1793</td>\n",
       "      <td>3</td>\n",
       "      <td>241</td>\n",
       "      <td>1663089090</td>\n",
       "      <td>1.0</td>\n",
       "      <td>1</td>\n",
       "      <td>87</td>\n",
       "    </tr>\n",
       "    <tr>\n",
       "      <th>...</th>\n",
       "      <td>...</td>\n",
       "      <td>...</td>\n",
       "      <td>...</td>\n",
       "      <td>...</td>\n",
       "      <td>...</td>\n",
       "      <td>...</td>\n",
       "      <td>...</td>\n",
       "    </tr>\n",
       "    <tr>\n",
       "      <th>76968</th>\n",
       "      <td>853020</td>\n",
       "      <td>3321</td>\n",
       "      <td>1739</td>\n",
       "      <td>1707207328</td>\n",
       "      <td>NaN</td>\n",
       "      <td>0</td>\n",
       "      <td>141</td>\n",
       "    </tr>\n",
       "    <tr>\n",
       "      <th>76969</th>\n",
       "      <td>853019</td>\n",
       "      <td>3321</td>\n",
       "      <td>1746</td>\n",
       "      <td>1707207304</td>\n",
       "      <td>1.0</td>\n",
       "      <td>0</td>\n",
       "      <td>141</td>\n",
       "    </tr>\n",
       "    <tr>\n",
       "      <th>76970</th>\n",
       "      <td>853024</td>\n",
       "      <td>3321</td>\n",
       "      <td>1749</td>\n",
       "      <td>1707207356</td>\n",
       "      <td>0.9</td>\n",
       "      <td>0</td>\n",
       "      <td>141</td>\n",
       "    </tr>\n",
       "    <tr>\n",
       "      <th>76971</th>\n",
       "      <td>853040</td>\n",
       "      <td>3321</td>\n",
       "      <td>1981</td>\n",
       "      <td>1707207586</td>\n",
       "      <td>NaN</td>\n",
       "      <td>0</td>\n",
       "      <td>141</td>\n",
       "    </tr>\n",
       "    <tr>\n",
       "      <th>76972</th>\n",
       "      <td>853617</td>\n",
       "      <td>3321</td>\n",
       "      <td>2200</td>\n",
       "      <td>1707213706</td>\n",
       "      <td>NaN</td>\n",
       "      <td>0</td>\n",
       "      <td>141</td>\n",
       "    </tr>\n",
       "  </tbody>\n",
       "</table>\n",
       "<p>76973 rows × 7 columns</p>\n",
       "</div>"
      ]
     },
     "execution_count": 25,
     "metadata": {},
     "output_type": "execute_result"
    }
   ],
   "execution_count": 25
  },
  {
   "cell_type": "code",
   "metadata": {
    "ExecuteTime": {
     "end_time": "2024-10-27T01:07:17.210976Z",
     "start_time": "2024-10-27T01:07:17.196951Z"
    }
   },
   "source": [
    "nan_count = merged_df_max_n.isna().sum()\n",
    "\n",
    "print(\"Conteo de NaNs por columna:\\n\", nan_count)"
   ],
   "outputs": [
    {
     "name": "stdout",
     "output_type": "stream",
     "text": [
      "Conteo de NaNs por columna:\n",
      " tramesa_id          0\n",
      "activitat_id        0\n",
      "userid              0\n",
      "datesubmitted       0\n",
      "grade            5684\n",
      "nevaluations        0\n",
      "aula_id             0\n",
      "dtype: int64\n"
     ]
    }
   ],
   "execution_count": 26
  },
  {
   "cell_type": "markdown",
   "metadata": {},
   "source": [
    "Dado que hemos filtrado por la última entrega de cada user, si existe una entrega con grade NaN se reemplazará por un 0."
   ]
  },
  {
   "cell_type": "code",
   "metadata": {
    "ExecuteTime": {
     "end_time": "2024-10-27T01:07:17.290027Z",
     "start_time": "2024-10-27T01:07:17.275019Z"
    }
   },
   "source": [
    "merged_df_max_n['grade'] = merged_df_max_n['grade'].fillna(0)\n"
   ],
   "outputs": [],
   "execution_count": 27
  },
  {
   "cell_type": "code",
   "metadata": {
    "ExecuteTime": {
     "end_time": "2024-10-27T01:49:54.747658Z",
     "start_time": "2024-10-27T01:49:54.739148Z"
    }
   },
   "source": "activitats_x_aula[87].columns",
   "outputs": [
    {
     "data": {
      "text/plain": [
       "Index(['activitat_id', 'aula_id', 'gradeMax'], dtype='object')"
      ]
     },
     "execution_count": 33,
     "metadata": {},
     "output_type": "execute_result"
    }
   ],
   "execution_count": 33
  },
  {
   "metadata": {},
   "cell_type": "markdown",
   "source": ""
  },
  {
   "metadata": {},
   "cell_type": "markdown",
   "source": "Optimizamos el código para crear un DataFrame por cada aula_id, incluyendo las notas parciales (P_Grade), finales (F_Grade), las notas de las entregas, fechas de entrega y número de evaluaciones. Luego, guarda cada DataFrame en un archivo CSV separado."
  },
  {
   "cell_type": "code",
   "metadata": {
    "ExecuteTime": {
     "end_time": "2024-10-27T01:07:34.163596Z",
     "start_time": "2024-10-27T01:07:17.384973Z"
    }
   },
   "source": [
    "import pandas as pd\n",
    "\n",
    "# Obtener usuarios y aulas únicos\n",
    "unique_users = notes['userid'].unique()\n",
    "unique_aulas = notes['aula_id'].unique()\n",
    "\n",
    "# Iterar sobre cada aula_id\n",
    "for aula_id in unique_aulas:\n",
    "    users_in_aula = notes[notes['aula_id'] == aula_id]['userid'].unique()\n",
    "    combinations = pd.MultiIndex.from_product([users_in_aula, [aula_id]], names=['userid', 'aula_id']).to_frame(index=False)\n",
    "    result_data = []\n",
    "\n",
    "    # Iterar sobre cada combinación de userid y aula_id\n",
    "    for _, row in combinations.iterrows():\n",
    "        userid = row['userid']\n",
    "        user_aula_trameses = merged_df_max_n[(merged_df_max_n['userid'] == userid) & (merged_df_max_n['aula_id'] == aula_id)]\n",
    "        user_notes = notes[(notes['userid'] == userid) & (notes['aula_id'] == aula_id)]\n",
    "        vector = [userid, aula_id]\n",
    "        vector.append(user_notes['P_Grade'].str.replace(',', '.').astype(float).values[0] if not user_notes['P_Grade'].isna().values[0] else 0.0)\n",
    "        vector.append(user_notes['F_Grade'].str.replace(',', '.').astype(float).values[0] if not user_notes['F_Grade'].isna().values[0] else 0.0)\n",
    "        \n",
    "        # Obtener la fecha del examen final\n",
    "        final_exam_date = user_notes['F_Grade_Date'].values[0]\n",
    "\n",
    "        # Iterar sobre cada tramesa_id en el aula_id\n",
    "        for activitat_id in activitats_x_aula[aula_id]['activitat_id'].unique():\n",
    "            tramesa = user_aula_trameses[user_aula_trameses['activitat_id'] == activitat_id]\n",
    "            if not tramesa.empty:\n",
    "                vector.append(tramesa['grade'].values[0])\n",
    "                date_submitted = tramesa['datesubmitted'].values[0]\n",
    "                vector.append(date_submitted if pd.notna(date_submitted) else final_exam_date)\n",
    "                vector.append(tramesa['nevaluations'].values[0])\n",
    "            else:\n",
    "                vector.append(0.0)\n",
    "                vector.append(final_exam_date)\n",
    "                vector.append(0)\n",
    "\n",
    "        result_data.append(vector)\n",
    "\n",
    "    columns = ['userid', 'aula_id', 'P_Grade', 'F_Grade']\n",
    "    for activitat_id in activitats_x_aula[aula_id]['activitat_id'].unique():\n",
    "        columns.extend([f'grade_{activitat_id}', f'date_{activitat_id}', f'nevaluations_{activitat_id}'])\n",
    "\n",
    "    result_df = pd.DataFrame(result_data, columns=columns)\n",
    "    result_df.to_csv(f'result_aula_{aula_id}.csv', index=False)\n",
    "    print(f'DataFrame para aula_id {aula_id} guardado en result_aula_{aula_id}.csv')"
   ],
   "outputs": [
    {
     "name": "stdout",
     "output_type": "stream",
     "text": [
      "DataFrame para aula_id 92 guardado en result_aula_92.csv\n",
      "DataFrame para aula_id 143 guardado en result_aula_143.csv\n",
      "DataFrame para aula_id 87 guardado en result_aula_87.csv\n",
      "DataFrame para aula_id 141 guardado en result_aula_141.csv\n"
     ]
    }
   ],
   "execution_count": 29
  },
  {
   "metadata": {
    "ExecuteTime": {
     "end_time": "2024-10-27T01:07:34.209572Z",
     "start_time": "2024-10-27T01:07:34.195035Z"
    }
   },
   "cell_type": "code",
   "source": "\n",
   "outputs": [],
   "execution_count": 29
  },
  {
   "metadata": {
    "ExecuteTime": {
     "end_time": "2024-10-27T01:07:34.225082Z",
     "start_time": "2024-10-27T01:07:34.219082Z"
    }
   },
   "cell_type": "code",
   "source": "",
   "outputs": [],
   "execution_count": null
  }
 ],
 "metadata": {
  "kernelspec": {
   "display_name": "general",
   "language": "python",
   "name": "python3"
  },
  "language_info": {
   "codemirror_mode": {
    "name": "ipython",
    "version": 3
   },
   "file_extension": ".py",
   "mimetype": "text/x-python",
   "name": "python",
   "nbconvert_exporter": "python",
   "pygments_lexer": "ipython3",
   "version": "3.12.3"
  }
 },
 "nbformat": 4,
 "nbformat_minor": 2
}
