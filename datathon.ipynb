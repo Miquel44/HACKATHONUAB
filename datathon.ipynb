{
 "cells": [
  {
   "cell_type": "code",
   "execution_count": 78,
   "id": "e58dc391",
   "metadata": {
    "ExecuteTime": {
     "end_time": "2024-10-26T14:05:04.421210400Z",
     "start_time": "2024-10-26T14:05:04.138460Z"
    }
   },
   "outputs": [],
   "source": [
    "import pandas as pd\n",
    "\n",
    "\n",
    "activitats = pd.read_csv('activitats.csv', encoding = 'latin-1')\n",
    "notes = pd.read_csv('notes.csv', sep=';', encoding = 'latin-1')\n",
    "notes.rename(columns = {notes.columns[0]: 'userid'}, inplace = True)\n",
    "trameses = pd.read_csv('trameses.csv', sep=',', encoding = 'latin-1')\n",
    "trameses.rename(columns = {trameses.columns[0]: 'tramesa_id'}, inplace = True)"
   ]
  },
  {
   "cell_type": "code",
   "execution_count": 79,
   "id": "1e64b600",
   "metadata": {
    "ExecuteTime": {
     "end_time": "2024-10-26T14:05:04.436219200Z",
     "start_time": "2024-10-26T14:05:04.421210400Z"
    }
   },
   "outputs": [
    {
     "data": {
      "text/plain": "      activitat_id                                  activitat  aula_id  \\\n0                3              Problema 1.1 - Hello world!!!       87   \n1                4           Problema 1.2 - Hello world!!! ++       87   \n2                5                 Problema 3a.1: Càlcul edat       87   \n3                6    Problema 3a.8: Conversió dòlars a euros       87   \n4                7           Problema 3a.11: Mitjana de notes       87   \n...            ...                                        ...      ...   \n1796          4194  (OPCIONAL) Problema 9.24 Triple pitagòric      184   \n1797          4379                                  VPLParent      114   \n1798          4380         VPL Child - Duplicate Me as Needed      114   \n1799          4386        Lliurament Pràctica 5: NEW La Major      176   \n1800          4388                            PG - Exercici 1      184   \n\n       startdate     duedate  grade  \n0              0           0    100  \n1              0           0    100  \n2              0           0    100  \n3              0           0    100  \n4              0           0    100  \n...          ...         ...    ...  \n1796           0           0    100  \n1797           0           0     10  \n1798           0           0     10  \n1799  1571985000  1576745700    100  \n1800  1698917400  1698924900    100  \n\n[1801 rows x 6 columns]",
      "text/html": "<div>\n<style scoped>\n    .dataframe tbody tr th:only-of-type {\n        vertical-align: middle;\n    }\n\n    .dataframe tbody tr th {\n        vertical-align: top;\n    }\n\n    .dataframe thead th {\n        text-align: right;\n    }\n</style>\n<table border=\"1\" class=\"dataframe\">\n  <thead>\n    <tr style=\"text-align: right;\">\n      <th></th>\n      <th>activitat_id</th>\n      <th>activitat</th>\n      <th>aula_id</th>\n      <th>startdate</th>\n      <th>duedate</th>\n      <th>grade</th>\n    </tr>\n  </thead>\n  <tbody>\n    <tr>\n      <th>0</th>\n      <td>3</td>\n      <td>Problema 1.1 - Hello world!!!</td>\n      <td>87</td>\n      <td>0</td>\n      <td>0</td>\n      <td>100</td>\n    </tr>\n    <tr>\n      <th>1</th>\n      <td>4</td>\n      <td>Problema 1.2 - Hello world!!! ++</td>\n      <td>87</td>\n      <td>0</td>\n      <td>0</td>\n      <td>100</td>\n    </tr>\n    <tr>\n      <th>2</th>\n      <td>5</td>\n      <td>Problema 3a.1: Càlcul edat</td>\n      <td>87</td>\n      <td>0</td>\n      <td>0</td>\n      <td>100</td>\n    </tr>\n    <tr>\n      <th>3</th>\n      <td>6</td>\n      <td>Problema 3a.8: Conversió dòlars a euros</td>\n      <td>87</td>\n      <td>0</td>\n      <td>0</td>\n      <td>100</td>\n    </tr>\n    <tr>\n      <th>4</th>\n      <td>7</td>\n      <td>Problema 3a.11: Mitjana de notes</td>\n      <td>87</td>\n      <td>0</td>\n      <td>0</td>\n      <td>100</td>\n    </tr>\n    <tr>\n      <th>...</th>\n      <td>...</td>\n      <td>...</td>\n      <td>...</td>\n      <td>...</td>\n      <td>...</td>\n      <td>...</td>\n    </tr>\n    <tr>\n      <th>1796</th>\n      <td>4194</td>\n      <td>(OPCIONAL) Problema 9.24 Triple pitagòric</td>\n      <td>184</td>\n      <td>0</td>\n      <td>0</td>\n      <td>100</td>\n    </tr>\n    <tr>\n      <th>1797</th>\n      <td>4379</td>\n      <td>VPLParent</td>\n      <td>114</td>\n      <td>0</td>\n      <td>0</td>\n      <td>10</td>\n    </tr>\n    <tr>\n      <th>1798</th>\n      <td>4380</td>\n      <td>VPL Child - Duplicate Me as Needed</td>\n      <td>114</td>\n      <td>0</td>\n      <td>0</td>\n      <td>10</td>\n    </tr>\n    <tr>\n      <th>1799</th>\n      <td>4386</td>\n      <td>Lliurament Pràctica 5: NEW La Major</td>\n      <td>176</td>\n      <td>1571985000</td>\n      <td>1576745700</td>\n      <td>100</td>\n    </tr>\n    <tr>\n      <th>1800</th>\n      <td>4388</td>\n      <td>PG - Exercici 1</td>\n      <td>184</td>\n      <td>1698917400</td>\n      <td>1698924900</td>\n      <td>100</td>\n    </tr>\n  </tbody>\n</table>\n<p>1801 rows × 6 columns</p>\n</div>"
     },
     "execution_count": 79,
     "metadata": {},
     "output_type": "execute_result"
    }
   ],
   "source": [
    "activitats"
   ]
  },
  {
   "cell_type": "code",
   "execution_count": 80,
   "id": "3467d1fc",
   "metadata": {
    "ExecuteTime": {
     "end_time": "2024-10-26T14:05:04.471973100Z",
     "start_time": "2024-10-26T14:05:04.440513800Z"
    }
   },
   "outputs": [
    {
     "data": {
      "text/plain": "      userid  aula_id P_Grade  P_Grade_Date F_Grade  F_Grade_Date R_Grade  \\\n0        176       92     NaN           NaN    9,25    1667829600     NaN   \n1        179       92     NaN           NaN    7,75    1667829600     NaN   \n2        168       92     NaN           NaN    7,75    1667829600     NaN   \n3        401       92     NaN           NaN    3,50    1667829600    8,25   \n4        482       92     NaN           NaN    7,00    1667829600     NaN   \n...      ...      ...     ...           ...     ...           ...     ...   \n1083    2818      184     NaN  1.730988e+09     NaN    1736949600     NaN   \n1084    2822      184     NaN  1.730988e+09     NaN    1736949600     NaN   \n1085    2836      184     NaN  1.730988e+09     NaN    1736949600     NaN   \n1086    2982      184     NaN  1.730988e+09     NaN    1736949600     NaN   \n1087    2984      184     NaN  1.730988e+09     NaN    1736949600     NaN   \n\n      R_Grade_Date  \n0       1675173600  \n1       1675173600  \n2       1675173600  \n3       1675173600  \n4       1675173600  \n...            ...  \n1083    1738072800  \n1084    1738072800  \n1085    1738072800  \n1086    1738072800  \n1087    1738072800  \n\n[1088 rows x 8 columns]",
      "text/html": "<div>\n<style scoped>\n    .dataframe tbody tr th:only-of-type {\n        vertical-align: middle;\n    }\n\n    .dataframe tbody tr th {\n        vertical-align: top;\n    }\n\n    .dataframe thead th {\n        text-align: right;\n    }\n</style>\n<table border=\"1\" class=\"dataframe\">\n  <thead>\n    <tr style=\"text-align: right;\">\n      <th></th>\n      <th>userid</th>\n      <th>aula_id</th>\n      <th>P_Grade</th>\n      <th>P_Grade_Date</th>\n      <th>F_Grade</th>\n      <th>F_Grade_Date</th>\n      <th>R_Grade</th>\n      <th>R_Grade_Date</th>\n    </tr>\n  </thead>\n  <tbody>\n    <tr>\n      <th>0</th>\n      <td>176</td>\n      <td>92</td>\n      <td>NaN</td>\n      <td>NaN</td>\n      <td>9,25</td>\n      <td>1667829600</td>\n      <td>NaN</td>\n      <td>1675173600</td>\n    </tr>\n    <tr>\n      <th>1</th>\n      <td>179</td>\n      <td>92</td>\n      <td>NaN</td>\n      <td>NaN</td>\n      <td>7,75</td>\n      <td>1667829600</td>\n      <td>NaN</td>\n      <td>1675173600</td>\n    </tr>\n    <tr>\n      <th>2</th>\n      <td>168</td>\n      <td>92</td>\n      <td>NaN</td>\n      <td>NaN</td>\n      <td>7,75</td>\n      <td>1667829600</td>\n      <td>NaN</td>\n      <td>1675173600</td>\n    </tr>\n    <tr>\n      <th>3</th>\n      <td>401</td>\n      <td>92</td>\n      <td>NaN</td>\n      <td>NaN</td>\n      <td>3,50</td>\n      <td>1667829600</td>\n      <td>8,25</td>\n      <td>1675173600</td>\n    </tr>\n    <tr>\n      <th>4</th>\n      <td>482</td>\n      <td>92</td>\n      <td>NaN</td>\n      <td>NaN</td>\n      <td>7,00</td>\n      <td>1667829600</td>\n      <td>NaN</td>\n      <td>1675173600</td>\n    </tr>\n    <tr>\n      <th>...</th>\n      <td>...</td>\n      <td>...</td>\n      <td>...</td>\n      <td>...</td>\n      <td>...</td>\n      <td>...</td>\n      <td>...</td>\n      <td>...</td>\n    </tr>\n    <tr>\n      <th>1083</th>\n      <td>2818</td>\n      <td>184</td>\n      <td>NaN</td>\n      <td>1.730988e+09</td>\n      <td>NaN</td>\n      <td>1736949600</td>\n      <td>NaN</td>\n      <td>1738072800</td>\n    </tr>\n    <tr>\n      <th>1084</th>\n      <td>2822</td>\n      <td>184</td>\n      <td>NaN</td>\n      <td>1.730988e+09</td>\n      <td>NaN</td>\n      <td>1736949600</td>\n      <td>NaN</td>\n      <td>1738072800</td>\n    </tr>\n    <tr>\n      <th>1085</th>\n      <td>2836</td>\n      <td>184</td>\n      <td>NaN</td>\n      <td>1.730988e+09</td>\n      <td>NaN</td>\n      <td>1736949600</td>\n      <td>NaN</td>\n      <td>1738072800</td>\n    </tr>\n    <tr>\n      <th>1086</th>\n      <td>2982</td>\n      <td>184</td>\n      <td>NaN</td>\n      <td>1.730988e+09</td>\n      <td>NaN</td>\n      <td>1736949600</td>\n      <td>NaN</td>\n      <td>1738072800</td>\n    </tr>\n    <tr>\n      <th>1087</th>\n      <td>2984</td>\n      <td>184</td>\n      <td>NaN</td>\n      <td>1.730988e+09</td>\n      <td>NaN</td>\n      <td>1736949600</td>\n      <td>NaN</td>\n      <td>1738072800</td>\n    </tr>\n  </tbody>\n</table>\n<p>1088 rows × 8 columns</p>\n</div>"
     },
     "execution_count": 80,
     "metadata": {},
     "output_type": "execute_result"
    }
   ],
   "source": [
    "notes"
   ]
  },
  {
   "cell_type": "code",
   "execution_count": 81,
   "id": "c230b4f7",
   "metadata": {
    "ExecuteTime": {
     "end_time": "2024-10-26T14:05:04.566531800Z",
     "start_time": "2024-10-26T14:05:04.456965100Z"
    }
   },
   "outputs": [
    {
     "data": {
      "text/plain": "        tramesa_id  activitat_id  userid  datesubmitted  grader    dategraded  \\\n0                6             3      31     1658829978     0.0  1.658830e+09   \n1                7           362      26     1658837049     0.0  1.658837e+09   \n2                9           362      26     1658837075     0.0  1.658837e+09   \n3               15           362      31     1662537577     0.0  1.662538e+09   \n4               16           362      31     1662537593     0.0  1.662712e+09   \n...            ...           ...     ...            ...     ...           ...   \n547957     1235631          3567    2644     1729605745     0.0  1.729606e+09   \n547958     1235635          3573    1828     1729605824     0.0  0.000000e+00   \n547959     1235643          3573    1828     1729605880     0.0  0.000000e+00   \n547960     1235646          3567    2650     1729605935     0.0  1.729606e+09   \n547961     1235649          3482    2543     1729605996     0.0  0.000000e+00   \n\n        grade  nevaluations  \n0       100.0             1  \n1       100.0             0  \n2       100.0             0  \n3         NaN             0  \n4       100.0             0  \n...       ...           ...  \n547957   60.0            17  \n547958    NaN             0  \n547959    NaN             1  \n547960  100.0             6  \n547961    NaN             7  \n\n[547962 rows x 8 columns]",
      "text/html": "<div>\n<style scoped>\n    .dataframe tbody tr th:only-of-type {\n        vertical-align: middle;\n    }\n\n    .dataframe tbody tr th {\n        vertical-align: top;\n    }\n\n    .dataframe thead th {\n        text-align: right;\n    }\n</style>\n<table border=\"1\" class=\"dataframe\">\n  <thead>\n    <tr style=\"text-align: right;\">\n      <th></th>\n      <th>tramesa_id</th>\n      <th>activitat_id</th>\n      <th>userid</th>\n      <th>datesubmitted</th>\n      <th>grader</th>\n      <th>dategraded</th>\n      <th>grade</th>\n      <th>nevaluations</th>\n    </tr>\n  </thead>\n  <tbody>\n    <tr>\n      <th>0</th>\n      <td>6</td>\n      <td>3</td>\n      <td>31</td>\n      <td>1658829978</td>\n      <td>0.0</td>\n      <td>1.658830e+09</td>\n      <td>100.0</td>\n      <td>1</td>\n    </tr>\n    <tr>\n      <th>1</th>\n      <td>7</td>\n      <td>362</td>\n      <td>26</td>\n      <td>1658837049</td>\n      <td>0.0</td>\n      <td>1.658837e+09</td>\n      <td>100.0</td>\n      <td>0</td>\n    </tr>\n    <tr>\n      <th>2</th>\n      <td>9</td>\n      <td>362</td>\n      <td>26</td>\n      <td>1658837075</td>\n      <td>0.0</td>\n      <td>1.658837e+09</td>\n      <td>100.0</td>\n      <td>0</td>\n    </tr>\n    <tr>\n      <th>3</th>\n      <td>15</td>\n      <td>362</td>\n      <td>31</td>\n      <td>1662537577</td>\n      <td>0.0</td>\n      <td>1.662538e+09</td>\n      <td>NaN</td>\n      <td>0</td>\n    </tr>\n    <tr>\n      <th>4</th>\n      <td>16</td>\n      <td>362</td>\n      <td>31</td>\n      <td>1662537593</td>\n      <td>0.0</td>\n      <td>1.662712e+09</td>\n      <td>100.0</td>\n      <td>0</td>\n    </tr>\n    <tr>\n      <th>...</th>\n      <td>...</td>\n      <td>...</td>\n      <td>...</td>\n      <td>...</td>\n      <td>...</td>\n      <td>...</td>\n      <td>...</td>\n      <td>...</td>\n    </tr>\n    <tr>\n      <th>547957</th>\n      <td>1235631</td>\n      <td>3567</td>\n      <td>2644</td>\n      <td>1729605745</td>\n      <td>0.0</td>\n      <td>1.729606e+09</td>\n      <td>60.0</td>\n      <td>17</td>\n    </tr>\n    <tr>\n      <th>547958</th>\n      <td>1235635</td>\n      <td>3573</td>\n      <td>1828</td>\n      <td>1729605824</td>\n      <td>0.0</td>\n      <td>0.000000e+00</td>\n      <td>NaN</td>\n      <td>0</td>\n    </tr>\n    <tr>\n      <th>547959</th>\n      <td>1235643</td>\n      <td>3573</td>\n      <td>1828</td>\n      <td>1729605880</td>\n      <td>0.0</td>\n      <td>0.000000e+00</td>\n      <td>NaN</td>\n      <td>1</td>\n    </tr>\n    <tr>\n      <th>547960</th>\n      <td>1235646</td>\n      <td>3567</td>\n      <td>2650</td>\n      <td>1729605935</td>\n      <td>0.0</td>\n      <td>1.729606e+09</td>\n      <td>100.0</td>\n      <td>6</td>\n    </tr>\n    <tr>\n      <th>547961</th>\n      <td>1235649</td>\n      <td>3482</td>\n      <td>2543</td>\n      <td>1729605996</td>\n      <td>0.0</td>\n      <td>0.000000e+00</td>\n      <td>NaN</td>\n      <td>7</td>\n    </tr>\n  </tbody>\n</table>\n<p>547962 rows × 8 columns</p>\n</div>"
     },
     "execution_count": 81,
     "metadata": {},
     "output_type": "execute_result"
    }
   ],
   "source": [
    "trameses"
   ]
  },
  {
   "cell_type": "code",
   "execution_count": 82,
   "id": "72dfbac1",
   "metadata": {
    "ExecuteTime": {
     "end_time": "2024-10-26T14:05:04.676133600Z",
     "start_time": "2024-10-26T14:05:04.487614700Z"
    }
   },
   "outputs": [
    {
     "data": {
      "text/plain": "                     grade  nevaluations\nuserid activitat_id                     \n21     362           100.0             1\n       363           100.0             6\n       366           100.0             3\n       367           100.0             5\n       368           100.0             4\n...                    ...           ...\n3008   3530          100.0             7\n       3531          100.0             2\n       3532          100.0             5\n       3565           80.0            12\n       3568           10.0            16\n\n[97858 rows x 2 columns]",
      "text/html": "<div>\n<style scoped>\n    .dataframe tbody tr th:only-of-type {\n        vertical-align: middle;\n    }\n\n    .dataframe tbody tr th {\n        vertical-align: top;\n    }\n\n    .dataframe thead th {\n        text-align: right;\n    }\n</style>\n<table border=\"1\" class=\"dataframe\">\n  <thead>\n    <tr style=\"text-align: right;\">\n      <th></th>\n      <th></th>\n      <th>grade</th>\n      <th>nevaluations</th>\n    </tr>\n    <tr>\n      <th>userid</th>\n      <th>activitat_id</th>\n      <th></th>\n      <th></th>\n    </tr>\n  </thead>\n  <tbody>\n    <tr>\n      <th rowspan=\"5\" valign=\"top\">21</th>\n      <th>362</th>\n      <td>100.0</td>\n      <td>1</td>\n    </tr>\n    <tr>\n      <th>363</th>\n      <td>100.0</td>\n      <td>6</td>\n    </tr>\n    <tr>\n      <th>366</th>\n      <td>100.0</td>\n      <td>3</td>\n    </tr>\n    <tr>\n      <th>367</th>\n      <td>100.0</td>\n      <td>5</td>\n    </tr>\n    <tr>\n      <th>368</th>\n      <td>100.0</td>\n      <td>4</td>\n    </tr>\n    <tr>\n      <th>...</th>\n      <th>...</th>\n      <td>...</td>\n      <td>...</td>\n    </tr>\n    <tr>\n      <th rowspan=\"5\" valign=\"top\">3008</th>\n      <th>3530</th>\n      <td>100.0</td>\n      <td>7</td>\n    </tr>\n    <tr>\n      <th>3531</th>\n      <td>100.0</td>\n      <td>2</td>\n    </tr>\n    <tr>\n      <th>3532</th>\n      <td>100.0</td>\n      <td>5</td>\n    </tr>\n    <tr>\n      <th>3565</th>\n      <td>80.0</td>\n      <td>12</td>\n    </tr>\n    <tr>\n      <th>3568</th>\n      <td>10.0</td>\n      <td>16</td>\n    </tr>\n  </tbody>\n</table>\n<p>97858 rows × 2 columns</p>\n</div>"
     },
     "execution_count": 82,
     "metadata": {},
     "output_type": "execute_result"
    }
   ],
   "source": [
    "Act_Not = pd.merge(notes, activitats, on='aula_id', how='outer')\n",
    "activitats_valides = Act_Not[Act_Not['F_Grade_Date'] > Act_Not['duedate']]['activitat_id'].unique()\n",
    "\n",
    "#CLEAN TRAMESAS\n",
    "#actividades validas en tramesas\n",
    "trameses_1 = trameses[trameses['activitat_id'].isin(activitats_valides)]\n",
    "trameses_1 = trameses_1.dropna(subset='grade')\n",
    "trameses_filtered = trameses_1.groupby(['userid', 'activitat_id'])[['grade', 'nevaluations']].max()\n",
    "#eliminar naans trameses\n",
    "trameses_filtered"
   ]
  },
  {
   "cell_type": "code",
   "execution_count": 83,
   "id": "25dce097",
   "metadata": {
    "ExecuteTime": {
     "end_time": "2024-10-26T14:05:04.775440500Z",
     "start_time": "2024-10-26T14:05:04.681597800Z"
    }
   },
   "outputs": [
    {
     "data": {
      "text/plain": "       userid  activitat_id  grade  nevaluations  aula_id\n0          21           362    1.0             1       92\n1          21           363    1.0             6       92\n2          21           366    1.0             3       92\n3          21           367    1.0             5       92\n4          21           368    1.0             4       92\n...       ...           ...    ...           ...      ...\n97853    3008          3530    1.0             7      176\n97854    3008          3531    1.0             2      176\n97855    3008          3532    1.0             5      176\n97856    3008          3565    0.8            12      176\n97857    3008          3568    0.1            16      176\n\n[97858 rows x 5 columns]",
      "text/html": "<div>\n<style scoped>\n    .dataframe tbody tr th:only-of-type {\n        vertical-align: middle;\n    }\n\n    .dataframe tbody tr th {\n        vertical-align: top;\n    }\n\n    .dataframe thead th {\n        text-align: right;\n    }\n</style>\n<table border=\"1\" class=\"dataframe\">\n  <thead>\n    <tr style=\"text-align: right;\">\n      <th></th>\n      <th>userid</th>\n      <th>activitat_id</th>\n      <th>grade</th>\n      <th>nevaluations</th>\n      <th>aula_id</th>\n    </tr>\n  </thead>\n  <tbody>\n    <tr>\n      <th>0</th>\n      <td>21</td>\n      <td>362</td>\n      <td>1.0</td>\n      <td>1</td>\n      <td>92</td>\n    </tr>\n    <tr>\n      <th>1</th>\n      <td>21</td>\n      <td>363</td>\n      <td>1.0</td>\n      <td>6</td>\n      <td>92</td>\n    </tr>\n    <tr>\n      <th>2</th>\n      <td>21</td>\n      <td>366</td>\n      <td>1.0</td>\n      <td>3</td>\n      <td>92</td>\n    </tr>\n    <tr>\n      <th>3</th>\n      <td>21</td>\n      <td>367</td>\n      <td>1.0</td>\n      <td>5</td>\n      <td>92</td>\n    </tr>\n    <tr>\n      <th>4</th>\n      <td>21</td>\n      <td>368</td>\n      <td>1.0</td>\n      <td>4</td>\n      <td>92</td>\n    </tr>\n    <tr>\n      <th>...</th>\n      <td>...</td>\n      <td>...</td>\n      <td>...</td>\n      <td>...</td>\n      <td>...</td>\n    </tr>\n    <tr>\n      <th>97853</th>\n      <td>3008</td>\n      <td>3530</td>\n      <td>1.0</td>\n      <td>7</td>\n      <td>176</td>\n    </tr>\n    <tr>\n      <th>97854</th>\n      <td>3008</td>\n      <td>3531</td>\n      <td>1.0</td>\n      <td>2</td>\n      <td>176</td>\n    </tr>\n    <tr>\n      <th>97855</th>\n      <td>3008</td>\n      <td>3532</td>\n      <td>1.0</td>\n      <td>5</td>\n      <td>176</td>\n    </tr>\n    <tr>\n      <th>97856</th>\n      <td>3008</td>\n      <td>3565</td>\n      <td>0.8</td>\n      <td>12</td>\n      <td>176</td>\n    </tr>\n    <tr>\n      <th>97857</th>\n      <td>3008</td>\n      <td>3568</td>\n      <td>0.1</td>\n      <td>16</td>\n      <td>176</td>\n    </tr>\n  </tbody>\n</table>\n<p>97858 rows × 5 columns</p>\n</div>"
     },
     "execution_count": 83,
     "metadata": {},
     "output_type": "execute_result"
    }
   ],
   "source": [
    "merged_df = pd.merge(trameses_filtered.reset_index(), activitats, on='activitat_id')\n",
    "merged_df.rename(columns={'grade_x': 'grade', 'grade_y': 'gradeMax'}, inplace=True)\n",
    "merged_df.drop(['activitat', 'startdate', 'duedate'], axis=1, inplace=True)\n",
    "merged_df['grade'] = merged_df['grade'] / merged_df['gradeMax']\n",
    "merged_df = merged_df.drop('gradeMax', axis=1)\n",
    "merged_df"
   ]
  },
  {
   "cell_type": "code",
   "execution_count": 84,
   "id": "e1c0909c",
   "metadata": {
    "ExecuteTime": {
     "end_time": "2024-10-26T14:05:04.806926700Z",
     "start_time": "2024-10-26T14:05:04.712937300Z"
    }
   },
   "outputs": [
    {
     "data": {
      "text/plain": "      userid  aula_id  grade_mean  Totalnevaluations  Totalactividad_count\n0         21       92    0.862911                266                    79\n1         26       87    0.909091                  9                    11\n2         26       92    1.000000                 15                     7\n3         26      141    0.931034                 14                    58\n4         26      143    0.986667                 44                     9\n...      ...      ...         ...                ...                   ...\n1100    2944      176    0.996610                220                    59\n1101    2982      184    0.984375                265                    80\n1102    2984      184    0.982143                129                    70\n1103    2999      176    0.903654                128                    52\n1104    3008      176    0.928676                215                    68\n\n[1105 rows x 5 columns]",
      "text/html": "<div>\n<style scoped>\n    .dataframe tbody tr th:only-of-type {\n        vertical-align: middle;\n    }\n\n    .dataframe tbody tr th {\n        vertical-align: top;\n    }\n\n    .dataframe thead th {\n        text-align: right;\n    }\n</style>\n<table border=\"1\" class=\"dataframe\">\n  <thead>\n    <tr style=\"text-align: right;\">\n      <th></th>\n      <th>userid</th>\n      <th>aula_id</th>\n      <th>grade_mean</th>\n      <th>Totalnevaluations</th>\n      <th>Totalactividad_count</th>\n    </tr>\n  </thead>\n  <tbody>\n    <tr>\n      <th>0</th>\n      <td>21</td>\n      <td>92</td>\n      <td>0.862911</td>\n      <td>266</td>\n      <td>79</td>\n    </tr>\n    <tr>\n      <th>1</th>\n      <td>26</td>\n      <td>87</td>\n      <td>0.909091</td>\n      <td>9</td>\n      <td>11</td>\n    </tr>\n    <tr>\n      <th>2</th>\n      <td>26</td>\n      <td>92</td>\n      <td>1.000000</td>\n      <td>15</td>\n      <td>7</td>\n    </tr>\n    <tr>\n      <th>3</th>\n      <td>26</td>\n      <td>141</td>\n      <td>0.931034</td>\n      <td>14</td>\n      <td>58</td>\n    </tr>\n    <tr>\n      <th>4</th>\n      <td>26</td>\n      <td>143</td>\n      <td>0.986667</td>\n      <td>44</td>\n      <td>9</td>\n    </tr>\n    <tr>\n      <th>...</th>\n      <td>...</td>\n      <td>...</td>\n      <td>...</td>\n      <td>...</td>\n      <td>...</td>\n    </tr>\n    <tr>\n      <th>1100</th>\n      <td>2944</td>\n      <td>176</td>\n      <td>0.996610</td>\n      <td>220</td>\n      <td>59</td>\n    </tr>\n    <tr>\n      <th>1101</th>\n      <td>2982</td>\n      <td>184</td>\n      <td>0.984375</td>\n      <td>265</td>\n      <td>80</td>\n    </tr>\n    <tr>\n      <th>1102</th>\n      <td>2984</td>\n      <td>184</td>\n      <td>0.982143</td>\n      <td>129</td>\n      <td>70</td>\n    </tr>\n    <tr>\n      <th>1103</th>\n      <td>2999</td>\n      <td>176</td>\n      <td>0.903654</td>\n      <td>128</td>\n      <td>52</td>\n    </tr>\n    <tr>\n      <th>1104</th>\n      <td>3008</td>\n      <td>176</td>\n      <td>0.928676</td>\n      <td>215</td>\n      <td>68</td>\n    </tr>\n  </tbody>\n</table>\n<p>1105 rows × 5 columns</p>\n</div>"
     },
     "execution_count": 84,
     "metadata": {},
     "output_type": "execute_result"
    }
   ],
   "source": [
    "merged_df = merged_df.groupby(['userid', 'aula_id']).agg(\n",
    "    grade_mean=('grade', 'mean'),\n",
    "    Totalnevaluations=('nevaluations', 'sum'),\n",
    "    Totalactividad_count=('activitat_id', 'size')\n",
    ").reset_index()\n",
    "\n",
    "merged_df"
   ]
  },
  {
   "cell_type": "code",
   "execution_count": 85,
   "id": "f7d6d932",
   "metadata": {
    "ExecuteTime": {
     "end_time": "2024-10-26T14:05:04.822570500Z",
     "start_time": "2024-10-26T14:05:04.744285200Z"
    }
   },
   "outputs": [],
   "source": [
    "#save to csv\n",
    "merged_df.to_csv('Clean.csv', index=False)"
   ]
  },
  {
   "cell_type": "code",
   "execution_count": 85,
   "outputs": [],
   "source": [],
   "metadata": {
    "collapsed": false,
    "ExecuteTime": {
     "end_time": "2024-10-26T14:05:04.822570500Z",
     "start_time": "2024-10-26T14:05:04.775440500Z"
    }
   },
   "id": "e275aacd90ea48f9"
  },
  {
   "cell_type": "code",
   "execution_count": 85,
   "outputs": [],
   "source": [],
   "metadata": {
    "collapsed": false,
    "ExecuteTime": {
     "end_time": "2024-10-26T14:05:04.822570500Z",
     "start_time": "2024-10-26T14:05:04.797411100Z"
    }
   },
   "id": "81de8afaba710d06"
  },
  {
   "cell_type": "code",
   "execution_count": 85,
   "outputs": [],
   "source": [],
   "metadata": {
    "collapsed": false,
    "ExecuteTime": {
     "end_time": "2024-10-26T14:05:04.916350Z",
     "start_time": "2024-10-26T14:05:04.806926700Z"
    }
   },
   "id": "8ccdbc6a51b5ae57"
  },
  {
   "cell_type": "code",
   "execution_count": 85,
   "outputs": [],
   "source": [],
   "metadata": {
    "collapsed": false,
    "ExecuteTime": {
     "end_time": "2024-10-26T14:05:04.963276900Z",
     "start_time": "2024-10-26T14:05:04.822570500Z"
    }
   },
   "id": "fe9fb733779576d0"
  }
 ],
 "metadata": {
  "kernelspec": {
   "display_name": "Python 3 (ipykernel)",
   "language": "python",
   "name": "python3"
  },
  "language_info": {
   "codemirror_mode": {
    "name": "ipython",
    "version": 3
   },
   "file_extension": ".py",
   "mimetype": "text/x-python",
   "name": "python",
   "nbconvert_exporter": "python",
   "pygments_lexer": "ipython3",
   "version": "3.9.12"
  }
 },
 "nbformat": 4,
 "nbformat_minor": 5
}
